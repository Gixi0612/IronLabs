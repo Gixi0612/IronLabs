{
 "cells": [
  {
   "cell_type": "markdown",
   "metadata": {},
   "source": [
    "# Before your start:\n",
    "- Read the README.md file\n",
    "- Comment as much as you can and use the resources (README.md file)\n",
    "- Happy learning!"
   ]
  },
  {
   "cell_type": "code",
   "execution_count": 1,
   "metadata": {},
   "outputs": [],
   "source": [
    "# Run this code:\n",
    "\n",
    "%matplotlib inline\n",
    "\n",
    "import matplotlib.pyplot as plt"
   ]
  },
  {
   "cell_type": "code",
   "execution_count": 2,
   "metadata": {},
   "outputs": [],
   "source": [
    "# Import numpy and pandas:\n",
    "\n",
    "import numpy as np \n",
    "import pandas as pd"
   ]
  },
  {
   "cell_type": "markdown",
   "metadata": {},
   "source": [
    "# Challenge 1 - Reading and Standardizing the Data\n",
    "\n",
    "In this challenge we will work with image data and reduce the dimensions of the data to create a 2 dimensional plot. While we have not worked much with image data before, it can be represented as a numpy array where each pixel is assigned a numeric value. In this lesson, we will look at a dataset of cats and a dataset of dogs and see whether reducing them to two dimensions allows us to see if the data is separable. We will start by loading and processing the data. Run the cell below to load the two csv files and convert them into numpy arrays."
   ]
  },
  {
   "cell_type": "code",
   "execution_count": 3,
   "metadata": {},
   "outputs": [],
   "source": [
    "# Run this code\n",
    "cats = np.array(pd.read_csv(\"https://raw.githubusercontent.com/bioramble/pca/master/cat.csv\", header=None))\n",
    "dogs = np.array(pd.read_csv(\"https://raw.githubusercontent.com/bioramble/pca/master/dog.csv\", header=None))"
   ]
  },
  {
   "cell_type": "markdown",
   "metadata": {},
   "source": [
    "Next, we'll examine the shape of both the cats and the dogs arrays. Print out both shapes below."
   ]
  },
  {
   "cell_type": "code",
   "execution_count": 4,
   "metadata": {},
   "outputs": [
    {
     "name": "stdout",
     "output_type": "stream",
     "text": [
      "(4096, 80)\n",
      "(4096, 80)\n"
     ]
    }
   ],
   "source": [
    "# Your code here:\n",
    "print(cats.shape)\n",
    "print(dogs.shape)"
   ]
  },
  {
   "cell_type": "markdown",
   "metadata": {},
   "source": [
    "What this means is that both arrays contain 80 images each (the number of columns). Each image is comprised of 64x64 pixels (so a total of 4096 pixels per image). The images have been flattened such that all 4096 are in a single row.\n",
    "\n",
    "Print out column 0 of the cats array to see what the pixels values look like."
   ]
  },
  {
   "cell_type": "code",
   "execution_count": 5,
   "metadata": {},
   "outputs": [
    {
     "data": {
      "text/plain": [
       "array([64, 64, 64, ..., 64, 64, 61], dtype=int64)"
      ]
     },
     "execution_count": 5,
     "metadata": {},
     "output_type": "execute_result"
    }
   ],
   "source": [
    "# Your code here:\n",
    "cats[:, 0]"
   ]
  },
  {
   "cell_type": "markdown",
   "metadata": {},
   "source": [
    "Using `matplotlib` we can plot a single cat or a single dog. We do this by reshaping the vector back to a 64x64 image and then using the `imshow` function.\n",
    "\n",
    "Run the code below to look at the first dog and the first cat."
   ]
  },
  {
   "cell_type": "code",
   "execution_count": 6,
   "metadata": {},
   "outputs": [
    {
     "data": {
      "text/plain": [
       "<matplotlib.image.AxesImage at 0x1d56a422880>"
      ]
     },
     "execution_count": 6,
     "metadata": {},
     "output_type": "execute_result"
    },
    {
     "data": {
      "image/png": "[encoded data removed]",
      "text/plain": [
       "<Figure size 432x288 with 1 Axes>"
      ]
     },
     "metadata": {
      "needs_background": "light"
     },
     "output_type": "display_data"
    }
   ],
   "source": [
    "# Run this code:\n",
    "fig, ax = plt.subplots()\n",
    "ax.imshow(cats[:,0].reshape(64, 64).T, cmap=plt.cm.bone, interpolation='nearest') "
   ]
  },
  {
   "cell_type": "code",
   "execution_count": 7,
   "metadata": {},
   "outputs": [
    {
     "data": {
      "text/plain": [
       "<matplotlib.image.AxesImage at 0x1d56a5131c0>"
      ]
     },
     "execution_count": 7,
     "metadata": {},
     "output_type": "execute_result"
    },
    {
     "data": {
      "image/png": "[encoded data removed]",
      "text/plain": [
       "<Figure size 432x288 with 1 Axes>"
      ]
     },
     "metadata": {
      "needs_background": "light"
     },
     "output_type": "display_data"
    }
   ],
   "source": [
    "# Run this code:\n",
    "fig, ax = plt.subplots()\n",
    "ax.imshow(dogs[:,0].reshape(64, 64).T, cmap=plt.cm.bone, interpolation='nearest') "
   ]
  },
  {
   "cell_type": "markdown",
   "metadata": {},
   "source": [
    "Next, we would like to create a standardization function. This function will find the mean and standard deviation of each image. We subtract the mean from each pixel and divide each pixel by the standard deviation. Write the function below.\n",
    "\n",
    "Hint: To find the mean and standard deviation of each image, use `numpy`'s version of mean and stadnard deviation and use `axis=0`."
   ]
  },
  {
   "cell_type": "code",
   "execution_count": 8,
   "metadata": {},
   "outputs": [],
   "source": [
    "def standardize(x):\n",
    "    #This function takes as input a numpy array and returns a stadardized numpy array of the same dimensions.\n",
    "    #Sample input: np.array([[1,2,3],[4,5,6]])\n",
    "    #Sample output: np.array([[-1,-1,-1],[1,1,1]])\n",
    "    \n",
    "    # Your code here:\n",
    "    xmean = np.mean(x, axis=0)\n",
    "    xstd = np.std(x,axis=0)\n",
    "    return ((x-xmean)/xstd)\n"
   ]
  },
  {
   "cell_type": "markdown",
   "metadata": {},
   "source": [
    "Now, use the `np.concatenate` function to combine the cats and dogs arrays. Use `axis=1` to combine the two correctly. Make sure to put dogs first."
   ]
  },
  {
   "cell_type": "code",
   "execution_count": 9,
   "metadata": {},
   "outputs": [],
   "source": [
    "# Your code here:\n",
    "combine = np.concatenate((dogs, cats), axis=1)"
   ]
  },
  {
   "cell_type": "markdown",
   "metadata": {},
   "source": [
    "Standardize the concatenated array below."
   ]
  },
  {
   "cell_type": "code",
   "execution_count": 10,
   "metadata": {},
   "outputs": [
    {
     "data": {
      "text/plain": [
       "array([[ 2.37662907, -0.30753004,  0.93254857, ..., -1.80817356,\n",
       "         1.42293481, -0.20363951],\n",
       "       [ 2.37662907, -0.40500299,  1.15681724, ..., -2.06459792,\n",
       "         1.44036713, -0.05437635],\n",
       "       [ 2.37662907, -0.68349716,  0.93254857, ..., -1.73124626,\n",
       "         1.45779946, -0.07925354],\n",
       "       ...,\n",
       "       [ 0.22755315, -0.68349716,  0.63352369, ..., -0.65426398,\n",
       "         0.67334483,  0.11976401],\n",
       "       [ 0.22755315, -0.40500299,  0.35941754, ..., -0.32091232,\n",
       "         0.70820948, -0.45241144],\n",
       "       [ 0.22755315, -0.40500299,  0.35941754, ..., -0.67990641,\n",
       "         0.62104786,  0.09488681]])"
      ]
     },
     "execution_count": 10,
     "metadata": {},
     "output_type": "execute_result"
    }
   ],
   "source": [
    "# Your code here:\n",
    "standardize(combine)"
   ]
  },
  {
   "cell_type": "markdown",
   "metadata": {},
   "source": [
    "# Challenge 2 - Using PCA\n",
    "\n",
    "Now that we have created a standardized matrix of cats and dogs, we'll find the two most important components in the data.\n",
    "\n",
    "Load the `PCA` function from `statsmodels` (read about this function [here](https://www.statsmodels.org/dev/generated/statsmodels.multivariate.pca.PCA.html)) and apply the function to our standarized data. Create a PCA model with two components."
   ]
  },
  {
   "cell_type": "code",
   "execution_count": 18,
   "metadata": {},
   "outputs": [
    {
     "data": {
      "text/plain": [
       "Principal Component Analysis(nobs: 4096, nvar: 160, transformation: Standardize (Correlation), normalization: True, number of components: 160, SVD, id: 0x1d500dd27c0)"
      ]
     },
     "execution_count": 18,
     "metadata": {},
     "output_type": "execute_result"
    }
   ],
   "source": [
    "# Your code here:\n",
    "from statsmodels.multivariate.pca import PCA\n",
    "pc = PCA(standardize(combine))\n",
    "pc"
   ]
  },
  {
   "cell_type": "markdown",
   "metadata": {},
   "source": [
    "Use `numpy` to find to transpose the standardized pet array. This will help us compute the projection."
   ]
  },
  {
   "cell_type": "code",
   "execution_count": 12,
   "metadata": {},
   "outputs": [
    {
     "data": {
      "text/plain": [
       "array([[ 2.37662907,  2.37662907,  2.37662907, ...,  0.22755315,\n",
       "         0.22755315,  0.22755315],\n",
       "       [-0.30753004, -0.40500299, -0.68349716, ..., -0.68349716,\n",
       "        -0.40500299, -0.40500299],\n",
       "       [ 0.93254857,  1.15681724,  0.93254857, ...,  0.63352369,\n",
       "         0.35941754,  0.35941754],\n",
       "       ...,\n",
       "       [-1.80817356, -2.06459792, -1.73124626, ..., -0.65426398,\n",
       "        -0.32091232, -0.67990641],\n",
       "       [ 1.42293481,  1.44036713,  1.45779946, ...,  0.67334483,\n",
       "         0.70820948,  0.62104786],\n",
       "       [-0.20363951, -0.05437635, -0.07925354, ...,  0.11976401,\n",
       "        -0.45241144,  0.09488681]])"
      ]
     },
     "execution_count": 12,
     "metadata": {},
     "output_type": "execute_result"
    }
   ],
   "source": [
    "# Your code here:\n",
    "features_st = np.transpose(standardize(combine))\n",
    "features_st"
   ]
  },
  {
   "cell_type": "markdown",
   "metadata": {},
   "source": [
    "Find the dot product of the transposed standardized pet matrix and the `factors` of the `PCA` model found above. This will be the projection onto 2 dimensions. This means that each cat and dog image will now only have two columns instead of 4096."
   ]
  },
  {
   "cell_type": "code",
   "execution_count": 13,
   "metadata": {},
   "outputs": [
    {
     "data": {
      "text/plain": [
       "array([[ 4.24136831e+01+0.j,  1.65344605e+01+0.j],\n",
       "       [ 3.23664390e+01+0.j, -1.65863433e+01+0.j],\n",
       "       [-1.27661788e+01+0.j, -1.40997400e+01+0.j],\n",
       "       [ 5.32539415e+00+0.j, -3.16879469e+01+0.j],\n",
       "       [ 3.28685380e+01+0.j,  5.43678054e+00+0.j],\n",
       "       [-8.42861759e+00+0.j, -4.19741071e+01+0.j],\n",
       "       [ 2.22823106e+01+0.j, -1.12522051e+01+0.j],\n",
       "       [ 1.46249270e+01+0.j, -3.59771701e+01+0.j],\n",
       "       [ 1.27082576e+01+0.j, -3.63290571e+01+0.j],\n",
       "       [ 3.94864140e+01+0.j,  3.54511236e+00+0.j],\n",
       "       [ 6.30455736e-01+0.j, -3.32023103e+01+0.j],\n",
       "       [ 2.19249400e+01+0.j, -1.60574166e+01+0.j],\n",
       "       [ 8.64755286e+00+0.j, -1.53540471e+01+0.j],\n",
       "       [-2.94674873e+00+0.j, -1.83606825e+01+0.j],\n",
       "       [ 1.94521975e+01+0.j, -2.85029142e+01+0.j],\n",
       "       [ 1.78398807e+01+0.j, -3.15748796e+01+0.j],\n",
       "       [ 1.60721213e+01+0.j, -8.95316467e+00+0.j],\n",
       "       [ 3.92246217e+01+0.j, -1.85301575e+01+0.j],\n",
       "       [ 1.86733324e+01+0.j, -2.48729478e+01+0.j],\n",
       "       [ 1.58995372e+01+0.j, -4.25707427e+01+0.j],\n",
       "       [-3.32687593e+00+0.j, -3.27048275e+01+0.j],\n",
       "       [ 1.88970898e+00+0.j, -3.67091126e+01+0.j],\n",
       "       [ 9.93261136e+00+0.j, -1.45690073e+01+0.j],\n",
       "       [ 1.21878841e+01+0.j, -3.82812220e+01+0.j],\n",
       "       [ 2.73963531e+01+0.j, -2.78225846e+01+0.j],\n",
       "       [ 5.48961564e-01+0.j, -4.13004785e+01+0.j],\n",
       "       [-3.47369927e+00+0.j, -2.62173545e+01+0.j],\n",
       "       [ 1.08196425e+00+0.j, -2.10236353e+01+0.j],\n",
       "       [ 1.39604407e+01+0.j, -4.49838849e+01+0.j],\n",
       "       [ 9.92492869e+00+0.j, -2.16221919e+01+0.j],\n",
       "       [ 5.08838392e+00+0.j, -2.56597938e+01+0.j],\n",
       "       [ 7.66943559e+00+0.j, -2.18021348e+01+0.j],\n",
       "       [ 3.03635958e+01+0.j, -2.66746166e+01+0.j],\n",
       "       [ 1.34473048e+01+0.j, -3.46084713e+01+0.j],\n",
       "       [-7.02528858e+00+0.j, -3.84646938e+01+0.j],\n",
       "       [ 1.60262588e+01+0.j, -1.14219713e+01+0.j],\n",
       "       [-1.39026420e+01+0.j, -3.53105352e+01+0.j],\n",
       "       [ 1.66876214e+00+0.j, -2.89050203e+01+0.j],\n",
       "       [-6.24314444e+00+0.j, -4.02730144e+01+0.j],\n",
       "       [ 2.88125445e+01+0.j, -1.75391609e+01+0.j],\n",
       "       [ 1.73621777e+01+0.j, -3.73347481e+01+0.j],\n",
       "       [ 1.14403140e+01+0.j,  2.00829248e+01+0.j],\n",
       "       [-9.88424972e+00+0.j, -3.44553474e+01+0.j],\n",
       "       [ 1.53944997e+01+0.j, -2.56771745e+01+0.j],\n",
       "       [-7.87911806e+00+0.j, -1.25511615e+01+0.j],\n",
       "       [ 2.00471659e+01+0.j,  2.03758356e+01+0.j],\n",
       "       [ 2.65959031e+01+0.j,  1.19747025e+01+0.j],\n",
       "       [ 7.07164033e+00+0.j, -5.13348623e+00+0.j],\n",
       "       [ 1.51645997e+01+0.j,  1.09674485e+01+0.j],\n",
       "       [-1.63212706e+01+0.j, -3.61334503e+01+0.j],\n",
       "       [ 2.93421568e+01+0.j,  7.96147720e+00+0.j],\n",
       "       [ 3.65070597e+01+0.j,  2.79782697e+01+0.j],\n",
       "       [ 6.04374350e+00+0.j,  1.60542659e+01+0.j],\n",
       "       [-2.15283873e+01+0.j, -3.97839972e+01+0.j],\n",
       "       [-2.14472430e+01+0.j, -8.25163307e-02+0.j],\n",
       "       [-1.39065261e+01+0.j, -4.66381738e-01+0.j],\n",
       "       [ 2.91259223e+01+0.j,  7.23113702e+00+0.j],\n",
       "       [ 1.47590099e+01+0.j,  1.19978263e+01+0.j],\n",
       "       [-1.65021882e+01+0.j, -2.81260166e+01+0.j],\n",
       "       [-1.88990079e+00+0.j, -3.11088774e+01+0.j],\n",
       "       [ 8.03974511e+00+0.j, -3.70602649e+01+0.j],\n",
       "       [ 3.08074858e+01+0.j,  1.80871677e+01+0.j],\n",
       "       [ 3.10240316e+01+0.j,  7.83034442e+00+0.j],\n",
       "       [-2.29248082e+01+0.j,  4.56588212e+00+0.j],\n",
       "       [-1.05880513e+01+0.j, -7.13390691e+00+0.j],\n",
       "       [ 2.73182208e+01+0.j, -3.33004684e-01+0.j],\n",
       "       [ 4.85276137e+00+0.j,  1.78157878e+01+0.j],\n",
       "       [-3.21493936e+01+0.j, -1.16235766e+01+0.j],\n",
       "       [-2.19885687e+00+0.j,  2.97029717e-01+0.j],\n",
       "       [ 2.28219330e+01+0.j, -3.00903834e+01+0.j],\n",
       "       [-1.05247358e+01+0.j, -1.16609122e+01+0.j],\n",
       "       [-7.86810143e-01+0.j, -3.12743518e+01+0.j],\n",
       "       [ 2.65825640e+01+0.j, -2.51315154e+01+0.j],\n",
       "       [-2.09344080e+01+0.j, -2.50824771e+01+0.j],\n",
       "       [ 1.01705763e+01+0.j,  2.75934823e+01+0.j],\n",
       "       [ 3.98741151e+01+0.j,  8.18704194e+00+0.j],\n",
       "       [ 3.32302418e+01+0.j, -1.13993255e+01+0.j],\n",
       "       [-8.01394228e+00+0.j, -3.25784517e+01+0.j],\n",
       "       [-3.12872064e+00+0.j, -3.30820408e+01+0.j],\n",
       "       [ 3.90003584e+01+0.j,  3.33043772e+00+0.j],\n",
       "       [-1.56105970e+01+0.j,  2.05776686e+01+0.j],\n",
       "       [-4.97382690e+01+0.j, -1.26938914e+00+0.j],\n",
       "       [ 4.82121014e+01+0.j,  7.43781192e+00+0.j],\n",
       "       [ 4.10185037e+01+0.j, -9.23530216e-01+0.j],\n",
       "       [-3.02011809e+01+0.j,  2.19967655e+01+0.j],\n",
       "       [-2.10290287e+01+0.j,  3.54085158e+01+0.j],\n",
       "       [-4.13585748e+01+0.j, -2.02903008e+00+0.j],\n",
       "       [-5.30213703e+00+0.j,  1.83036839e+01+0.j],\n",
       "       [-4.23730189e+01+0.j,  9.07223572e+00+0.j],\n",
       "       [-2.11122277e+01+0.j,  1.85359544e+01+0.j],\n",
       "       [ 3.76319749e-02+0.j,  4.12259312e+00+0.j],\n",
       "       [ 5.78679043e+00+0.j,  6.85533878e+00+0.j],\n",
       "       [-5.18354434e+01+0.j,  1.08173098e+01+0.j],\n",
       "       [-3.03062567e+01+0.j,  1.61594775e+01+0.j],\n",
       "       [ 2.89260134e+01+0.j,  1.96623138e+01+0.j],\n",
       "       [-3.92026474e+01+0.j,  1.90415938e+01+0.j],\n",
       "       [ 2.89015892e+01+0.j,  1.17118887e+01+0.j],\n",
       "       [-3.32992848e+01+0.j,  1.08647847e+01+0.j],\n",
       "       [ 4.28649668e+01+0.j,  6.94619365e-01+0.j],\n",
       "       [-5.05659920e+01+0.j,  7.50855501e+00+0.j],\n",
       "       [ 1.10152715e+01+0.j,  1.77826130e+01+0.j],\n",
       "       [-3.54891334e+01+0.j, -6.24756377e-01+0.j],\n",
       "       [-3.54584895e+01+0.j, -1.43702099e+01+0.j],\n",
       "       [-3.38042967e+01+0.j, -3.14755125e+01+0.j],\n",
       "       [ 5.16123638e+01+0.j,  8.77874155e+00+0.j],\n",
       "       [-6.91572386e+00+0.j, -2.25650444e+01+0.j],\n",
       "       [-3.49958579e+01+0.j,  2.09635511e+01+0.j],\n",
       "       [-3.14247136e+01+0.j, -1.64883381e+01+0.j],\n",
       "       [ 2.14702475e+01+0.j,  7.10878023e+00+0.j],\n",
       "       [-2.09011593e+01+0.j,  1.30210227e+01+0.j],\n",
       "       [-2.54774001e+00+0.j,  1.68702756e+01+0.j],\n",
       "       [ 1.23981538e+01+0.j,  2.15518429e+01+0.j],\n",
       "       [-1.85969208e+01+0.j,  3.16319668e+01+0.j],\n",
       "       [ 5.29027751e+01+0.j,  1.33771070e+01+0.j],\n",
       "       [-5.11354924e+01+0.j, -4.49458270e+00+0.j],\n",
       "       [-7.51388215e+00+0.j, -1.21317784e+01+0.j],\n",
       "       [ 5.05539173e+01+0.j,  1.06235950e+00+0.j],\n",
       "       [-4.30114125e+01+0.j,  9.18725823e+00+0.j],\n",
       "       [-2.08688480e+01+0.j, -2.30958086e+01+0.j],\n",
       "       [-1.56280577e+01+0.j,  1.40989641e+01+0.j],\n",
       "       [-7.41194962e+00+0.j,  2.08027610e+01+0.j],\n",
       "       [-2.71539548e+01+0.j,  2.26770188e+01+0.j],\n",
       "       [-5.43663545e+01+0.j, -1.50139926e+01+0.j],\n",
       "       [-3.18223358e+01+0.j, -1.81281037e+01+0.j],\n",
       "       [-5.17153037e+01+0.j, -1.92298475e+01+0.j],\n",
       "       [ 3.34225860e+01+0.j,  1.77358215e+01+0.j],\n",
       "       [ 3.41909648e+01+0.j, -3.68701930e-02+0.j],\n",
       "       [ 2.86163442e+01+0.j,  8.93209484e+00+0.j],\n",
       "       [-5.06544878e+01+0.j, -3.51830015e+00+0.j],\n",
       "       [ 1.28071038e+00+0.j,  1.49789539e+01+0.j],\n",
       "       [-2.49861880e+01+0.j,  1.84762503e+01+0.j],\n",
       "       [-1.58183630e+01+0.j, -1.10741440e+01+0.j],\n",
       "       [-4.61548075e+01+0.j,  1.98265561e+01+0.j],\n",
       "       [-3.59890178e+01+0.j,  1.85264896e+01+0.j],\n",
       "       [ 1.85705881e+01+0.j,  2.67439095e+01+0.j],\n",
       "       [-3.89370476e+01+0.j,  2.13731003e+01+0.j],\n",
       "       [-3.63608138e+01+0.j,  2.70974582e+01+0.j],\n",
       "       [-1.93981358e+01+0.j, -7.11427699e+00+0.j],\n",
       "       [ 3.28357175e+01+0.j,  3.02543033e+01+0.j],\n",
       "       [-2.14398508e+01+0.j, -3.10770653e+01+0.j],\n",
       "       [-1.74279551e+00+0.j, -1.98283052e+00+0.j],\n",
       "       [-2.14162015e+01+0.j,  1.68753451e+01+0.j],\n",
       "       [-3.95482232e+01+0.j,  1.13038443e+01+0.j],\n",
       "       [-4.19622879e+01+0.j, -1.00263136e+01+0.j],\n",
       "       [ 2.51052988e+01+0.j,  3.46327327e+00+0.j],\n",
       "       [-7.14807615e+00+0.j,  1.85123848e+01+0.j],\n",
       "       [ 5.09925090e+01+0.j,  8.91869079e+00+0.j],\n",
       "       [-3.54442564e+00+0.j,  1.42789202e+00+0.j],\n",
       "       [ 2.22847572e+01+0.j,  1.02990241e+01+0.j],\n",
       "       [ 3.26882349e+01+0.j, -4.69798902e+00+0.j],\n",
       "       [ 1.57516606e+01+0.j,  6.38925820e+00+0.j],\n",
       "       [-3.49233696e+01+0.j, -1.14345272e+01+0.j],\n",
       "       [-1.10511256e+01+0.j,  1.59317427e+01+0.j],\n",
       "       [ 2.03652362e+00+0.j, -3.53266085e+00+0.j],\n",
       "       [ 1.11480109e+01+0.j,  2.06561209e+00+0.j],\n",
       "       [-2.67322165e+01+0.j, -1.77161368e+01+0.j],\n",
       "       [-3.27885493e+01+0.j, -2.39933864e+01+0.j],\n",
       "       [-4.56281757e+01+0.j, -1.42925810e+01+0.j],\n",
       "       [ 1.71654614e+01+0.j, -5.70099071e-01+0.j],\n",
       "       [-8.12201774e+00+0.j,  1.42694257e+01+0.j]])"
      ]
     },
     "execution_count": 13,
     "metadata": {},
     "output_type": "execute_result"
    }
   ],
   "source": [
    "# Your code here:\n",
    "features_st_mean = np.mean(features_st, axis=0)\n",
    "cov_mat = (features_st - features_st_mean).T.dot((features_st - features_st_mean)) / (features_st.shape[0]-1)\n",
    "eig_vals, eig_vecs = np.linalg.eig(cov_mat)\n",
    "u,s,v = np.linalg.svd(features_st.T)\n",
    "# Make a list of (eigenvalue, eigenvector) tuples\n",
    "eig_pairs = [(np.abs(eig_vals[i]), eig_vecs[:,i]) for i in range(len(eig_vals))]\n",
    "\n",
    "# Sort the (eigenvalue, eigenvector) tuples from high to low\n",
    "eig_pairs.sort(key=lambda x: x[0], reverse=True)\n",
    "tot = sum(eig_vals)\n",
    "var_exp = [(i / tot)*100 for i in sorted(eig_vals, reverse=True)]\n",
    "cum_var_exp = np.cumsum(var_exp)\n",
    "matrix_w = np.hstack((eig_pairs[0][1].reshape(4096,1),\n",
    "                      eig_pairs[1][1].reshape(4096,1)))\n",
    "Y = features_st.dot(matrix_w)\n",
    "Y"
   ]
  },
  {
   "cell_type": "markdown",
   "metadata": {},
   "source": [
    "# Challenge 3 - Plotting the Data\n",
    "\n",
    "Now that we have reduced our cats and dogs arrays, we can easily plot the data in a way that the human eye can understand. We can look at this plot to see whether there are differences between the cat and dog images. \n",
    "\n",
    "In the cell below, turn the two dimensional projection into a pandas dataframe and name the columns `pc1`, and `pc2` respectively."
   ]
  },
  {
   "cell_type": "code",
   "execution_count": 14,
   "metadata": {},
   "outputs": [
    {
     "data": {
      "text/html": [
       "<div>\n",
       "<style scoped>\n",
       "    .dataframe tbody tr th:only-of-type {\n",
       "        vertical-align: middle;\n",
       "    }\n",
       "\n",
       "    .dataframe tbody tr th {\n",
       "        vertical-align: top;\n",
       "    }\n",
       "\n",
       "    .dataframe thead th {\n",
       "        text-align: right;\n",
       "    }\n",
       "</style>\n",
       "<table border=\"1\" class=\"dataframe\">\n",
       "  <thead>\n",
       "    <tr style=\"text-align: right;\">\n",
       "      <th></th>\n",
       "      <th>pc1</th>\n",
       "      <th>pc2</th>\n",
       "    </tr>\n",
       "  </thead>\n",
       "  <tbody>\n",
       "    <tr>\n",
       "      <th>0</th>\n",
       "      <td>42.413683+0.000000j</td>\n",
       "      <td>16.534460+0.000000j</td>\n",
       "    </tr>\n",
       "    <tr>\n",
       "      <th>1</th>\n",
       "      <td>32.366439+0.000000j</td>\n",
       "      <td>-16.586343+0.000000j</td>\n",
       "    </tr>\n",
       "    <tr>\n",
       "      <th>2</th>\n",
       "      <td>-12.766179+0.000000j</td>\n",
       "      <td>-14.099740+0.000000j</td>\n",
       "    </tr>\n",
       "    <tr>\n",
       "      <th>3</th>\n",
       "      <td>5.325394+0.000000j</td>\n",
       "      <td>-31.687947+0.000000j</td>\n",
       "    </tr>\n",
       "    <tr>\n",
       "      <th>4</th>\n",
       "      <td>32.868538+0.000000j</td>\n",
       "      <td>5.436781+0.000000j</td>\n",
       "    </tr>\n",
       "    <tr>\n",
       "      <th>...</th>\n",
       "      <td>...</td>\n",
       "      <td>...</td>\n",
       "    </tr>\n",
       "    <tr>\n",
       "      <th>155</th>\n",
       "      <td>-26.732217+0.000000j</td>\n",
       "      <td>-17.716137+0.000000j</td>\n",
       "    </tr>\n",
       "    <tr>\n",
       "      <th>156</th>\n",
       "      <td>-32.788549+0.000000j</td>\n",
       "      <td>-23.993386+0.000000j</td>\n",
       "    </tr>\n",
       "    <tr>\n",
       "      <th>157</th>\n",
       "      <td>-45.628176+0.000000j</td>\n",
       "      <td>-14.292581+0.000000j</td>\n",
       "    </tr>\n",
       "    <tr>\n",
       "      <th>158</th>\n",
       "      <td>17.165461+0.000000j</td>\n",
       "      <td>-0.570099+0.000000j</td>\n",
       "    </tr>\n",
       "    <tr>\n",
       "      <th>159</th>\n",
       "      <td>-8.122018+0.000000j</td>\n",
       "      <td>14.269426+0.000000j</td>\n",
       "    </tr>\n",
       "  </tbody>\n",
       "</table>\n",
       "<p>160 rows × 2 columns</p>\n",
       "</div>"
      ],
      "text/plain": [
       "                     pc1                  pc2\n",
       "0    42.413683+0.000000j  16.534460+0.000000j\n",
       "1    32.366439+0.000000j -16.586343+0.000000j\n",
       "2   -12.766179+0.000000j -14.099740+0.000000j\n",
       "3     5.325394+0.000000j -31.687947+0.000000j\n",
       "4    32.868538+0.000000j   5.436781+0.000000j\n",
       "..                   ...                  ...\n",
       "155 -26.732217+0.000000j -17.716137+0.000000j\n",
       "156 -32.788549+0.000000j -23.993386+0.000000j\n",
       "157 -45.628176+0.000000j -14.292581+0.000000j\n",
       "158  17.165461+0.000000j  -0.570099+0.000000j\n",
       "159  -8.122018+0.000000j  14.269426+0.000000j\n",
       "\n",
       "[160 rows x 2 columns]"
      ]
     },
     "execution_count": 14,
     "metadata": {},
     "output_type": "execute_result"
    }
   ],
   "source": [
    "# Your code here:\n",
    "columns =['pc1', 'pc2']\n",
    "values = Y.tolist()\n",
    "df = pd.DataFrame(values)\n",
    "df.columns = columns \n",
    "df"
   ]
  },
  {
   "cell_type": "markdown",
   "metadata": {},
   "source": [
    "Create a labels list. This list will be of size 160. The first 80 elements in the list will be the word `blue`, and the last 80 elements will be `red`. This will ensure that all dog observations will be colored in blue and all cats will be colored in red. Name this list `colors`."
   ]
  },
  {
   "cell_type": "code",
   "execution_count": 15,
   "metadata": {},
   "outputs": [
    {
     "data": {
      "text/html": [
       "<div>\n",
       "<style scoped>\n",
       "    .dataframe tbody tr th:only-of-type {\n",
       "        vertical-align: middle;\n",
       "    }\n",
       "\n",
       "    .dataframe tbody tr th {\n",
       "        vertical-align: top;\n",
       "    }\n",
       "\n",
       "    .dataframe thead th {\n",
       "        text-align: right;\n",
       "    }\n",
       "</style>\n",
       "<table border=\"1\" class=\"dataframe\">\n",
       "  <thead>\n",
       "    <tr style=\"text-align: right;\">\n",
       "      <th></th>\n",
       "      <th>pc1</th>\n",
       "      <th>pc2</th>\n",
       "      <th>color</th>\n",
       "    </tr>\n",
       "  </thead>\n",
       "  <tbody>\n",
       "    <tr>\n",
       "      <th>0</th>\n",
       "      <td>42.413683+0.000000j</td>\n",
       "      <td>16.534460+0.000000j</td>\n",
       "      <td>red</td>\n",
       "    </tr>\n",
       "    <tr>\n",
       "      <th>1</th>\n",
       "      <td>32.366439+0.000000j</td>\n",
       "      <td>-16.586343+0.000000j</td>\n",
       "      <td>red</td>\n",
       "    </tr>\n",
       "    <tr>\n",
       "      <th>2</th>\n",
       "      <td>-12.766179+0.000000j</td>\n",
       "      <td>-14.099740+0.000000j</td>\n",
       "      <td>red</td>\n",
       "    </tr>\n",
       "    <tr>\n",
       "      <th>3</th>\n",
       "      <td>5.325394+0.000000j</td>\n",
       "      <td>-31.687947+0.000000j</td>\n",
       "      <td>red</td>\n",
       "    </tr>\n",
       "    <tr>\n",
       "      <th>4</th>\n",
       "      <td>32.868538+0.000000j</td>\n",
       "      <td>5.436781+0.000000j</td>\n",
       "      <td>red</td>\n",
       "    </tr>\n",
       "    <tr>\n",
       "      <th>...</th>\n",
       "      <td>...</td>\n",
       "      <td>...</td>\n",
       "      <td>...</td>\n",
       "    </tr>\n",
       "    <tr>\n",
       "      <th>155</th>\n",
       "      <td>-26.732217+0.000000j</td>\n",
       "      <td>-17.716137+0.000000j</td>\n",
       "      <td>blue</td>\n",
       "    </tr>\n",
       "    <tr>\n",
       "      <th>156</th>\n",
       "      <td>-32.788549+0.000000j</td>\n",
       "      <td>-23.993386+0.000000j</td>\n",
       "      <td>blue</td>\n",
       "    </tr>\n",
       "    <tr>\n",
       "      <th>157</th>\n",
       "      <td>-45.628176+0.000000j</td>\n",
       "      <td>-14.292581+0.000000j</td>\n",
       "      <td>blue</td>\n",
       "    </tr>\n",
       "    <tr>\n",
       "      <th>158</th>\n",
       "      <td>17.165461+0.000000j</td>\n",
       "      <td>-0.570099+0.000000j</td>\n",
       "      <td>blue</td>\n",
       "    </tr>\n",
       "    <tr>\n",
       "      <th>159</th>\n",
       "      <td>-8.122018+0.000000j</td>\n",
       "      <td>14.269426+0.000000j</td>\n",
       "      <td>blue</td>\n",
       "    </tr>\n",
       "  </tbody>\n",
       "</table>\n",
       "<p>160 rows × 3 columns</p>\n",
       "</div>"
      ],
      "text/plain": [
       "                     pc1                  pc2 color\n",
       "0    42.413683+0.000000j  16.534460+0.000000j   red\n",
       "1    32.366439+0.000000j -16.586343+0.000000j   red\n",
       "2   -12.766179+0.000000j -14.099740+0.000000j   red\n",
       "3     5.325394+0.000000j -31.687947+0.000000j   red\n",
       "4    32.868538+0.000000j   5.436781+0.000000j   red\n",
       "..                   ...                  ...   ...\n",
       "155 -26.732217+0.000000j -17.716137+0.000000j  blue\n",
       "156 -32.788549+0.000000j -23.993386+0.000000j  blue\n",
       "157 -45.628176+0.000000j -14.292581+0.000000j  blue\n",
       "158  17.165461+0.000000j  -0.570099+0.000000j  blue\n",
       "159  -8.122018+0.000000j  14.269426+0.000000j  blue\n",
       "\n",
       "[160 rows x 3 columns]"
      ]
     },
     "execution_count": 15,
     "metadata": {},
     "output_type": "execute_result"
    }
   ],
   "source": [
    "# Your code here:\n",
    "df['color'] = np.where(df.index > 80, 'blue', 'red')\n",
    "df"
   ]
  },
  {
   "cell_type": "markdown",
   "metadata": {},
   "source": [
    "Create a scatter plot of `pc1` and `pc2` below. Use the `colors` list above to color the observations by setting `c=colors`."
   ]
  },
  {
   "cell_type": "code",
   "execution_count": 16,
   "metadata": {},
   "outputs": [
    {
     "name": "stderr",
     "output_type": "stream",
     "text": [
      "C:\\Users\\gixi_\\anaconda3\\lib\\site-packages\\numpy\\core\\_asarray.py:171: ComplexWarning: Casting complex values to real discards the imaginary part\n",
      "  return array(a, dtype, copy=False, order=order, subok=True)\n"
     ]
    },
    {
     "data": {
      "text/plain": [
       "<AxesSubplot:xlabel='pc1', ylabel='pc2'>"
      ]
     },
     "execution_count": 16,
     "metadata": {},
     "output_type": "execute_result"
    },
    {
     "data": {
      "image/png": "[encoded data removed]",
      "text/plain": [
       "<Figure size 432x288 with 1 Axes>"
      ]
     },
     "metadata": {
      "needs_background": "light"
     },
     "output_type": "display_data"
    }
   ],
   "source": [
    "# Your code here:\n",
    "df.plot.scatter(x='pc1',y='pc2',c=df['color'])"
   ]
  },
  {
   "cell_type": "markdown",
   "metadata": {},
   "source": [
    "Do you see a clear separation between cats and dogs? Write your answer below."
   ]
  },
  {
   "cell_type": "code",
   "execution_count": 17,
   "metadata": {},
   "outputs": [],
   "source": [
    "# Your conclusions here:\n",
    "#they are close but we can see the difference anyway. "
   ]
  },
  {
   "cell_type": "code",
   "execution_count": null,
   "metadata": {},
   "outputs": [],
   "source": []
  }
 ],
 "metadata": {
  "kernelspec": {
   "display_name": "Python 3",
   "language": "python",
   "name": "python3"
  },
  "language_info": {
   "codemirror_mode": {
    "name": "ipython",
    "version": 3
   },
   "file_extension": ".py",
   "mimetype": "text/x-python",
   "name": "python",
   "nbconvert_exporter": "python",
   "pygments_lexer": "ipython3",
   "version": "3.8.8"
  }
 },
 "nbformat": 4,
 "nbformat_minor": 2
}
