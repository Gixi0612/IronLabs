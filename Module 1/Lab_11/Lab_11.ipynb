{
 "cells": [
  {
   "cell_type": "code",
   "execution_count": 5,
   "id": "f9398786",
   "metadata": {},
   "outputs": [],
   "source": [
    "def remove_value_list(integer_list, values_list):\n",
    "    empty_list = []\n",
    "    for i in integer_list:\n",
    "        if i not in values_list:\n",
    "            empty_list.append(i)\n",
    "        else:\n",
    "            continue\n",
    "    return empty_list   "
   ]
  },
  {
   "cell_type": "code",
   "execution_count": 6,
   "id": "945e9056",
   "metadata": {},
   "outputs": [
    {
     "data": {
      "text/plain": [
       "[2, 2, 4]"
      ]
     },
     "execution_count": 6,
     "metadata": {},
     "output_type": "execute_result"
    }
   ],
   "source": [
    "integer_list =  [1, 1, 2 ,3 ,1 ,2 ,3 ,4]\n",
    "values_list = [1, 3]\n",
    "remove_value_list(integer_list, values_list)"
   ]
  },
  {
   "cell_type": "code",
   "execution_count": 24,
   "id": "d5f3abfc",
   "metadata": {},
   "outputs": [],
   "source": [
    "def convert(list):\n",
    "    return (*list, )\n",
    "def count_spec_digits(integers_list,digits_list):\n",
    "    l = []\n",
    "    list_tupe = []\n",
    "    for i in digits_list:\n",
    "        list_tupe.append(i)\n",
    "        list_tupe.append(integers_list.count(i))\n",
    "        l.append(convert(list_tupe))\n",
    "        i = i+1\n",
    "        list_tupe =[]\n",
    "        \n",
    "    return l        "
   ]
  },
  {
   "cell_type": "code",
   "execution_count": 52,
   "id": "992e7d95",
   "metadata": {},
   "outputs": [
    {
     "ename": "NameError",
     "evalue": "name 'collections' is not defined",
     "output_type": "error",
     "traceback": [
      "\u001b[1;31m---------------------------------------------------------------------------\u001b[0m",
      "\u001b[1;31mNameError\u001b[0m                                 Traceback (most recent call last)",
      "\u001b[1;32m<ipython-input-52-1e7e2134c0bb>\u001b[0m in \u001b[0;36m<module>\u001b[1;34m\u001b[0m\n\u001b[0;32m      6\u001b[0m \u001b[0mintegers_list\u001b[0m \u001b[1;33m=\u001b[0m  \u001b[1;33m[\u001b[0m\u001b[1;36m1\u001b[0m\u001b[1;33m,\u001b[0m \u001b[1;36m1\u001b[0m\u001b[1;33m,\u001b[0m \u001b[1;36m2\u001b[0m \u001b[1;33m,\u001b[0m\u001b[1;36m3\u001b[0m \u001b[1;33m,\u001b[0m\u001b[1;36m1\u001b[0m \u001b[1;33m,\u001b[0m\u001b[1;36m2\u001b[0m \u001b[1;33m,\u001b[0m\u001b[1;36m3\u001b[0m \u001b[1;33m,\u001b[0m\u001b[1;36m4\u001b[0m\u001b[1;33m]\u001b[0m\u001b[1;33m\u001b[0m\u001b[1;33m\u001b[0m\u001b[0m\n\u001b[0;32m      7\u001b[0m \u001b[0mdigits_list\u001b[0m \u001b[1;33m=\u001b[0m \u001b[1;33m[\u001b[0m\u001b[1;36m1\u001b[0m\u001b[1;33m,\u001b[0m \u001b[1;36m3\u001b[0m\u001b[1;33m]\u001b[0m\u001b[1;33m\u001b[0m\u001b[1;33m\u001b[0m\u001b[0m\n\u001b[1;32m----> 8\u001b[1;33m \u001b[0mprint\u001b[0m\u001b[1;33m(\u001b[0m\u001b[0mcount_spec_digits\u001b[0m\u001b[1;33m(\u001b[0m\u001b[0mintegers_list\u001b[0m\u001b[1;33m,\u001b[0m\u001b[0mdigits_list\u001b[0m\u001b[1;33m)\u001b[0m\u001b[1;33m)\u001b[0m\u001b[1;33m\u001b[0m\u001b[1;33m\u001b[0m\u001b[0m\n\u001b[0m",
      "\u001b[1;32m<ipython-input-52-1e7e2134c0bb>\u001b[0m in \u001b[0;36mcount_spec_digits\u001b[1;34m(integers_list, digits_list)\u001b[0m\n\u001b[0;32m      1\u001b[0m \u001b[1;32mdef\u001b[0m \u001b[0mcount_spec_digits\u001b[0m\u001b[1;33m(\u001b[0m\u001b[0mintegers_list\u001b[0m\u001b[1;33m,\u001b[0m\u001b[0mdigits_list\u001b[0m\u001b[1;33m)\u001b[0m\u001b[1;33m:\u001b[0m\u001b[1;33m\u001b[0m\u001b[1;33m\u001b[0m\u001b[0m\n\u001b[0;32m      2\u001b[0m     \u001b[1;32mfrom\u001b[0m \u001b[0mcollections\u001b[0m \u001b[1;32mimport\u001b[0m \u001b[0mCounter\u001b[0m\u001b[1;33m\u001b[0m\u001b[1;33m\u001b[0m\u001b[0m\n\u001b[1;32m----> 3\u001b[1;33m     \u001b[0mc\u001b[0m \u001b[1;33m=\u001b[0m \u001b[0mcollections\u001b[0m\u001b[1;33m.\u001b[0m\u001b[0mCounter\u001b[0m\u001b[1;33m(\u001b[0m\u001b[0mintegers_list\u001b[0m\u001b[1;33m)\u001b[0m\u001b[1;33m\u001b[0m\u001b[1;33m\u001b[0m\u001b[0m\n\u001b[0m\u001b[0;32m      4\u001b[0m     \u001b[0mprint\u001b[0m\u001b[1;33m(\u001b[0m\u001b[0mc\u001b[0m\u001b[1;33m.\u001b[0m\u001b[0mitems\u001b[0m\u001b[1;33m(\u001b[0m\u001b[1;33m)\u001b[0m\u001b[1;33m)\u001b[0m\u001b[1;33m\u001b[0m\u001b[1;33m\u001b[0m\u001b[0m\n\u001b[0;32m      5\u001b[0m \u001b[1;33m\u001b[0m\u001b[0m\n",
      "\u001b[1;31mNameError\u001b[0m: name 'collections' is not defined"
     ]
    }
   ],
   "source": [
    "\n",
    "def count_spec_digits(integers_list,digits_list):\n",
    "    from collections import Counter\n",
    "    c = collections.Counter(integers_list)\n",
    "    print(c.items())\n",
    "\n",
    "integers_list =  [1, 1, 2 ,3 ,1 ,2 ,3 ,4]\n",
    "digits_list = [1, 3]\n",
    "print(count_spec_digits(integers_list,digits_list))  "
   ]
  },
  {
   "cell_type": "code",
   "execution_count": 25,
   "id": "576120f3",
   "metadata": {},
   "outputs": [
    {
     "name": "stdout",
     "output_type": "stream",
     "text": [
      "[(1, 3), (3, 2)]\n"
     ]
    }
   ],
   "source": [
    "integers_list =  [1, 1, 2 ,3 ,1 ,2 ,3 ,4]\n",
    "digits_list = [1, 3]\n",
    "print(count_spec_digits(integers_list,digits_list))"
   ]
  },
  {
   "cell_type": "code",
   "execution_count": 61,
   "id": "38cb470e",
   "metadata": {},
   "outputs": [
    {
     "name": "stdout",
     "output_type": "stream",
     "text": [
      "[(-18, 1), (-31, 1), (81, 1), (-19, 1), (111, 1), (-888, 1)]\n"
     ]
    }
   ],
   "source": [
    "from collections import Counter\n",
    "l = [-18, -31, 81, -19, 111, -888]\n",
    "l2= [1, 3]\n",
    "c = collections.Counter(l)\n",
    "print(c.most_common())"
   ]
  },
  {
   "cell_type": "code",
   "execution_count": 26,
   "id": "3cd4e0c4",
   "metadata": {},
   "outputs": [
    {
     "data": {
      "text/plain": [
       "[(1, 0), (8, 0), (4, 0)]"
      ]
     },
     "execution_count": 26,
     "metadata": {},
     "output_type": "execute_result"
    }
   ],
   "source": [
    "integers_list = [-18, -31, 81, -19, 111, -888]\n",
    "digits_list = [1, 8, 4]\n",
    "count_spec_digits(integers_list, digits_list)"
   ]
  },
  {
   "cell_type": "code",
   "execution_count": null,
   "id": "536a7604",
   "metadata": {},
   "outputs": [],
   "source": [
    "ordered_count(\"abracadabra\") == [('a', 5), ('b', 2), ('r', 2), ('c', 1), ('d', 1)]"
   ]
  },
  {
   "cell_type": "code",
   "execution_count": 39,
   "id": "a6371e61",
   "metadata": {},
   "outputs": [
    {
     "name": "stdout",
     "output_type": "stream",
     "text": [
      "['a' 'b' 'c' 'd' 'r']\n"
     ]
    }
   ],
   "source": [
    "import numpy as np\n",
    "y = \"abracadabra\"\n",
    "l = re.findall('[a-z]',y)\n",
    "x = np.array(l)\n",
    "print(np.unique(x))"
   ]
  },
  {
   "cell_type": "code",
   "execution_count": 49,
   "id": "0cff03e9",
   "metadata": {},
   "outputs": [
    {
     "name": "stdout",
     "output_type": "stream",
     "text": [
      "[('a', 5), ('b', 2), ('r', 2), ('c', 1), ('d', 1)]\n"
     ]
    }
   ],
   "source": [
    "from collections import Counter\n",
    "def ordered_count(input):\n",
    "    return list(Counter(input).items())\n",
    "y = \"abracadabra\"\n",
    "print(ordered_count(y))"
   ]
  },
  {
   "cell_type": "code",
   "execution_count": null,
   "id": "4c2073b7",
   "metadata": {},
   "outputs": [],
   "source": []
  }
 ],
 "metadata": {
  "kernelspec": {
   "display_name": "Python 3",
   "language": "python",
   "name": "python3"
  },
  "language_info": {
   "codemirror_mode": {
    "name": "ipython",
    "version": 3
   },
   "file_extension": ".py",
   "mimetype": "text/x-python",
   "name": "python",
   "nbconvert_exporter": "python",
   "pygments_lexer": "ipython3",
   "version": "3.8.8"
  }
 },
 "nbformat": 4,
 "nbformat_minor": 5
}
