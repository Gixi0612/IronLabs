{
 "cells": [
  {
   "cell_type": "code",
   "execution_count": 4,
   "id": "9f5bc81a",
   "metadata": {
    "scrolled": true
   },
   "outputs": [
    {
     "name": "stdout",
     "output_type": "stream",
     "text": [
      "17\n"
     ]
    }
   ],
   "source": [
    "#counting sleeping sheeps\n",
    "def counting(list):\n",
    "    count = 0\n",
    "    for i in list:\n",
    "        if i == True:\n",
    "            count = count + 1\n",
    "    return(count)\n",
    "list1 = [True,  True,  True,  False,\n",
    "  True,  True,  True,  True ,\n",
    "  True,  False, True,  False,\n",
    "  True,  False, False, True ,\n",
    "  True,  True,  True,  True ,\n",
    "  False, False, True,  True]\n",
    "print(counting(list1))          "
   ]
  },
  {
   "cell_type": "code",
   "execution_count": 31,
   "id": "4f780bc5",
   "metadata": {},
   "outputs": [
    {
     "name": "stdout",
     "output_type": "stream",
     "text": [
      "['Keep', 'Keep', 'Keep']\n"
     ]
    }
   ],
   "source": [
    "list = [\"Keep\", \"Remove\", \"Keep\", \"Remove\", \"Keep\"]\n",
    "list2 =[]\n",
    "for i in range(0,len(list)):\n",
    "        if i%2!=1:\n",
    "            list2.append(list[i])\n",
    "print(list2)"
   ]
  },
  {
   "cell_type": "code",
   "execution_count": 58,
   "id": "f5eef2a8",
   "metadata": {},
   "outputs": [
    {
     "name": "stdout",
     "output_type": "stream",
     "text": [
      "Please input a non-negative number 2375957\n",
      "['7', '5', '9', '5', '7', '3', '2']\n"
     ]
    }
   ],
   "source": [
    "x = int(input(\"Please input a non-negative number \"))\n",
    "y = str(x)\n",
    "list=[]\n",
    "for i in range(0,len(y)):\n",
    "    list.append(y[i])\n",
    "print(list[::-1])"
   ]
  },
  {
   "cell_type": "code",
   "execution_count": 61,
   "id": "a26f6c3a",
   "metadata": {},
   "outputs": [
    {
     "name": "stdout",
     "output_type": "stream",
     "text": [
      "Please input a non-negative number 45\n",
      "1625\n"
     ]
    }
   ],
   "source": [
    "x = int(input(\"Please input a non-negative number \"))\n",
    "y = str(x)\n",
    "list=[]\n",
    "str1 =''\n",
    "for i in range(0,len(y)):\n",
    "    list.append(int(y[i])**2)\n",
    "for i in list:\n",
    "    str1 = str1 + str(i)\n",
    "print(str1)"
   ]
  },
  {
   "cell_type": "code",
   "execution_count": null,
   "id": "524c305d",
   "metadata": {},
   "outputs": [],
   "source": []
  }
 ],
 "metadata": {
  "kernelspec": {
   "display_name": "Python 3",
   "language": "python",
   "name": "python3"
  },
  "language_info": {
   "codemirror_mode": {
    "name": "ipython",
    "version": 3
   },
   "file_extension": ".py",
   "mimetype": "text/x-python",
   "name": "python",
   "nbconvert_exporter": "python",
   "pygments_lexer": "ipython3",
   "version": "3.8.8"
  }
 },
 "nbformat": 4,
 "nbformat_minor": 5
}
