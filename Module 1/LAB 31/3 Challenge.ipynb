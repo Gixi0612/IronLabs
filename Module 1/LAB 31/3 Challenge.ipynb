{
 "cells": [
  {
   "cell_type": "markdown",
   "id": "0a9ab602",
   "metadata": {},
   "source": [
    "## CHALLENGE 1"
   ]
  },
  {
   "cell_type": "code",
   "execution_count": 2,
   "id": "1601ee55",
   "metadata": {},
   "outputs": [],
   "source": [
    "dict1 = {0: 'zero', 1 : 'one', 2 : 'two', 3 : 'three', 4 : 'four', 5 : 'five', 6 : 'six', 7 : 'seven', 8 : 'eight', 9 : 'nine', 10 : 'ten', -1 : 'negative one', -2 : 'negative two', -3 : 'negative three', -4 : 'negative four', -5 : 'negative five'}\n",
    "dict2 = {'zero' : 0, 'one' : 1, 'two' : 2, 'three' : 3, 'four' : 4, 'five' : 5, 'six' : 6, 'seven' : 7, 'eight' : 8, 'nine' : 9, 'ten' : 10, 'negative one' : -1, 'negative two': -2, 'negative three' : 3, 'negative four' : -4, 'negative five': -5}"
   ]
  },
  {
   "cell_type": "code",
   "execution_count": 4,
   "id": "48eb3f55",
   "metadata": {},
   "outputs": [
    {
     "name": "stdout",
     "output_type": "stream",
     "text": [
      "Welcome to this calculator!\n",
      "It can add and subtract whole numbers from zero to five\n",
      "Please choose your first number (zero to five): five\n",
      "What do you want to do? plus or minus: minus\n",
      "Please choose your second number (zero to five): three\n",
      "five minus three equals two\n",
      "Thanks for using this calculator, goodbye :)\n"
     ]
    }
   ],
   "source": [
    "print('Welcome to this calculator!')\n",
    "print('It can add and subtract whole numbers from zero to five')\n",
    "a = input('Please choose your first number (zero to five): ')\n",
    "b = input('What do you want to do? plus or minus: ')\n",
    "c = input('Please choose your second number (zero to five): ')\n",
    "x = int(dict2[str(a)])\n",
    "y = int(dict2[str(c)])\n",
    "z = dict2.keys()\n",
    "\n",
    "if b == 'minus' and a in z and c in z:\n",
    "    print(str(a) + ' ' + str(b) + ' ' + str(c) + ' ' + \"equals\" + ' ' + dict1[x-y])\n",
    "elif b == 'plus' and a in z and c in z:\n",
    "    print(str(a) + ' ' + str(b) + ' ' + str(c) + ' ' + \"equals\" + ' ' + dict1[x+y])\n",
    "else:\n",
    "    print(\"I am not able to answer this question. Check your input.\")\n",
    "\n",
    "print(\"Thanks for using this calculator, goodbye :)\")"
   ]
  },
  {
   "cell_type": "markdown",
   "id": "8ca5234d",
   "metadata": {},
   "source": [
    "\n",
    "## CHALLENGE 3\n",
    "You are presented with an integer number larger than 5. Your goal is to identify the longest side\n",
    "possible in a right triangle whose sides are not longer than the number you are given.\n",
    "\n",
    "For example, if you are given the number 15, there are 3 possibilities to compose right triangles:\n",
    "\n",
    "1. [3, 4, 5]\n",
    "2. [6, 8, 10]\n",
    "3. [5, 12, 13]\n",
    "\n",
    "The following function shows one way to solve the problem but the code is not ideal or efficient.\n",
    "Refactor the code based on what you have learned about code simplicity and efficiency."
   ]
  },
  {
   "cell_type": "code",
   "execution_count": 15,
   "id": "e63d4185",
   "metadata": {},
   "outputs": [
    {
     "name": "stdout",
     "output_type": "stream",
     "text": [
      "What is the maximal length of the triangle side? Enter a number: 20\n",
      "The longest side possible is 17\n"
     ]
    }
   ],
   "source": [
    "def my_function(X):\n",
    "    solutions = []\n",
    "    for x in range(5, X):\n",
    "        for y in range(4, X):\n",
    "            for z in range(3, X):\n",
    "                if (x*x==y*y+z*z):\n",
    "                    solutions.append([x, y, z])\n",
    "    m = 0\n",
    "    for solution in solutions:\n",
    "        if m < max(solution):\n",
    "            m = max(solution)\n",
    "    return m\n",
    "\n",
    "X = input(\"What is the maximal length of the triangle side? Enter a number: \")\n",
    "\n",
    "print(\"The longest side possible is \" + str(my_function(int(X))))\n"
   ]
  },
  {
   "cell_type": "code",
   "execution_count": 20,
   "id": "3c687e30",
   "metadata": {},
   "outputs": [],
   "source": [
    "def longest_side(x):\n",
    "    result =[]\n",
    "    for a in range(3,x):\n",
    "        for b in range(4,x):\n",
    "            for c in range(5,x):\n",
    "                    if (a**2 + b**2 == c**2):\n",
    "                        result.append(c)\n",
    "                        continue\n",
    "                    else:\n",
    "                        pass\n",
    "    return result[-1]"
   ]
  },
  {
   "cell_type": "code",
   "execution_count": 21,
   "id": "a2e41606",
   "metadata": {},
   "outputs": [
    {
     "name": "stdout",
     "output_type": "stream",
     "text": [
      "What is the maximal length of the triangle side? Enter a number: 20\n",
      "The longest side possible is 17\n"
     ]
    }
   ],
   "source": [
    "X = input(\"What is the maximal length of the triangle side? Enter a number: \")\n",
    "\n",
    "print(\"The longest side possible is \" + str(longest_side(int(X))))\n"
   ]
  },
  {
   "cell_type": "markdown",
   "id": "f51d5fe8",
   "metadata": {},
   "source": [
    "## CHALLENGE 2"
   ]
  },
  {
   "cell_type": "code",
   "execution_count": 22,
   "id": "bf52db24",
   "metadata": {},
   "outputs": [
    {
     "name": "stdout",
     "output_type": "stream",
     "text": [
      "Enter minimum string length: 4\n",
      "Enter maximum string length: 10\n",
      "How many random strings to generate? 4\n",
      "['lzqizjx', 'fdtde5u', 'uj4cmfryo', '3831q']\n"
     ]
    }
   ],
   "source": [
    "def RandomStringGenerator(l=12, a=['a','b','c','d','e','f','g','h','i','j','k','l','m','n','o','p','q','r','s','t','u','v','w','x','y','z','0','1','2','3','4','5','6','7','8','9']):\n",
    "    p = 0\n",
    "    s = ''\n",
    "    while p<l:\n",
    "        import random\n",
    "        s += random.choice(a)\n",
    "        p += 1\n",
    "    return s\n",
    "\n",
    "def BatchStringGenerator(n, a=8, b=12):\n",
    "    r = []\n",
    "    for i in range(n):\n",
    "        c = None\n",
    "        if a < b:\n",
    "            import random\n",
    "            c = random.choice(range(a, b))\n",
    "        elif a == b:\n",
    "            c = a\n",
    "        else:\n",
    "            import sys\n",
    "            sys.exit('Incorrect min and max string lengths. Try again.')\n",
    "        r.append(RandomStringGenerator(c))\n",
    "    return r\n",
    "\n",
    "a = input('Enter minimum string length: ')\n",
    "b = input('Enter maximum string length: ')\n",
    "n = input('How many random strings to generate? ')\n",
    "\n",
    "print(BatchStringGenerator(int(n), int(a), int(b)))"
   ]
  },
  {
   "cell_type": "code",
   "execution_count": 46,
   "id": "c82f3262",
   "metadata": {},
   "outputs": [],
   "source": [
    "import string\n",
    "import random\n",
    "def id_generator(a,b):\n",
    "    n = random.randint(a, b)\n",
    "    chars = string.ascii_uppercase + string.digits\n",
    "    return ''.join(random.choice(chars) for _ in range(n))\n",
    "def string_generate(a,b,n):\n",
    "    result=[]\n",
    "    if a > b:\n",
    "        print(\"Incorrect min and max string lengths. Try again.\")\n",
    "    else:\n",
    "        for i in range(n):\n",
    "            result.append(id_generator(a,b))\n",
    "            i = i + 1\n",
    "    return result"
   ]
  },
  {
   "cell_type": "code",
   "execution_count": 47,
   "id": "bd3d6b93",
   "metadata": {},
   "outputs": [
    {
     "name": "stdout",
     "output_type": "stream",
     "text": [
      "Enter minimum string length: 6\n",
      "Enter maximum string length: 4\n",
      "How many random strings to generate? 3\n",
      "Incorrect min and max string lengths. Try again.\n",
      "[]\n"
     ]
    }
   ],
   "source": [
    "a = int(input('Enter minimum string length: '))\n",
    "b = int(input('Enter maximum string length: '))\n",
    "n = int(input('How many random strings to generate? '))\n",
    "\n",
    "print(string_generate(a,b,n))"
   ]
  },
  {
   "cell_type": "code",
   "execution_count": null,
   "id": "897784ef",
   "metadata": {},
   "outputs": [],
   "source": []
  }
 ],
 "metadata": {
  "kernelspec": {
   "display_name": "Python 3",
   "language": "python",
   "name": "python3"
  },
  "language_info": {
   "codemirror_mode": {
    "name": "ipython",
    "version": 3
   },
   "file_extension": ".py",
   "mimetype": "text/x-python",
   "name": "python",
   "nbconvert_exporter": "python",
   "pygments_lexer": "ipython3",
   "version": "3.8.8"
  }
 },
 "nbformat": 4,
 "nbformat_minor": 5
}
