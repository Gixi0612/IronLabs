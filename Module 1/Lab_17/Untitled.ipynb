{
 "cells": [
  {
   "cell_type": "code",
   "execution_count": 3,
   "id": "77ec1962",
   "metadata": {},
   "outputs": [
    {
     "name": "stdout",
     "output_type": "stream",
     "text": [
      "Player 1 please enter your name : G\n",
      "Player 2 please enter your name : A\n",
      "Turn  1          A's turn ! (O)\n",
      "\n",
      "0  1  2  \n",
      "3  4  5  \n",
      "6  7  8  \n",
      "\n",
      "Please input the number of the cell you want to play in : 4\n",
      "Turn  2          G's turn ! (X)\n",
      "\n",
      "0  1  2  \n",
      "3  O  5  \n",
      "6  7  8  \n",
      "\n",
      "Please input the number of the cell you want to play in : 7\n",
      "Turn  3          A's turn ! (O)\n",
      "\n",
      "0  1  2  \n",
      "3  O  5  \n",
      "6  X  8  \n",
      "\n"
     ]
    },
    {
     "ename": "KeyboardInterrupt",
     "evalue": "Interrupted by user",
     "output_type": "error",
     "traceback": [
      "\u001b[1;31m---------------------------------------------------------------------------\u001b[0m",
      "\u001b[1;31mKeyboardInterrupt\u001b[0m                         Traceback (most recent call last)",
      "\u001b[1;32m<ipython-input-3-4d8160514871>\u001b[0m in \u001b[0;36m<module>\u001b[1;34m\u001b[0m\n\u001b[0;32m     84\u001b[0m     \u001b[0mdraw_winner\u001b[0m\u001b[1;33m(\u001b[0m\u001b[1;33m)\u001b[0m\u001b[1;33m\u001b[0m\u001b[1;33m\u001b[0m\u001b[0m\n\u001b[0;32m     85\u001b[0m \u001b[1;33m\u001b[0m\u001b[0m\n\u001b[1;32m---> 86\u001b[1;33m \u001b[0mtakeTurns\u001b[0m\u001b[1;33m(\u001b[0m\u001b[1;33m)\u001b[0m\u001b[1;33m\u001b[0m\u001b[1;33m\u001b[0m\u001b[0m\n\u001b[0m",
      "\u001b[1;32m<ipython-input-3-4d8160514871>\u001b[0m in \u001b[0;36mtakeTurns\u001b[1;34m()\u001b[0m\n\u001b[0;32m     75\u001b[0m     \u001b[1;32mwhile\u001b[0m \u001b[1;32mTrue\u001b[0m\u001b[1;33m:\u001b[0m\u001b[1;33m\u001b[0m\u001b[1;33m\u001b[0m\u001b[0m\n\u001b[0;32m     76\u001b[0m         \u001b[0mdraw_game\u001b[0m\u001b[1;33m(\u001b[0m\u001b[0mcountOfTurns\u001b[0m\u001b[1;33m)\u001b[0m\u001b[1;33m\u001b[0m\u001b[1;33m\u001b[0m\u001b[0m\n\u001b[1;32m---> 77\u001b[1;33m         \u001b[0mselected_cell\u001b[0m \u001b[1;33m=\u001b[0m \u001b[0minput\u001b[0m\u001b[1;33m(\u001b[0m\u001b[1;34m\"Please input the number of the cell you want to play in : \"\u001b[0m\u001b[1;33m)\u001b[0m\u001b[1;33m\u001b[0m\u001b[1;33m\u001b[0m\u001b[0m\n\u001b[0m\u001b[0;32m     78\u001b[0m         \u001b[1;32mif\u001b[0m \u001b[0mselected_cell\u001b[0m\u001b[1;33m.\u001b[0m\u001b[0misdigit\u001b[0m \u001b[1;32mand\u001b[0m \u001b[0mlen\u001b[0m\u001b[1;33m(\u001b[0m\u001b[0mselected_cell\u001b[0m\u001b[1;33m)\u001b[0m \u001b[1;33m==\u001b[0m \u001b[1;36m1\u001b[0m \u001b[1;32mand\u001b[0m \u001b[0mboard\u001b[0m\u001b[1;33m[\u001b[0m\u001b[0mint\u001b[0m\u001b[1;33m(\u001b[0m\u001b[0mselected_cell\u001b[0m\u001b[1;33m)\u001b[0m\u001b[1;33m]\u001b[0m \u001b[1;33m==\u001b[0m \u001b[1;33m-\u001b[0m\u001b[1;36m1\u001b[0m\u001b[1;33m:\u001b[0m\u001b[1;33m\u001b[0m\u001b[1;33m\u001b[0m\u001b[0m\n\u001b[0;32m     79\u001b[0m             \u001b[0mboard\u001b[0m\u001b[1;33m[\u001b[0m\u001b[0mint\u001b[0m\u001b[1;33m(\u001b[0m\u001b[0mselected_cell\u001b[0m\u001b[1;33m)\u001b[0m\u001b[1;33m]\u001b[0m \u001b[1;33m=\u001b[0m \u001b[0mcountOfTurns\u001b[0m\u001b[1;33m\u001b[0m\u001b[1;33m\u001b[0m\u001b[0m\n",
      "\u001b[1;32m~\\anaconda3\\lib\\site-packages\\ipykernel\\kernelbase.py\u001b[0m in \u001b[0;36mraw_input\u001b[1;34m(self, prompt)\u001b[0m\n\u001b[0;32m    858\u001b[0m                 \u001b[1;34m\"raw_input was called, but this frontend does not support input requests.\"\u001b[0m\u001b[1;33m\u001b[0m\u001b[1;33m\u001b[0m\u001b[0m\n\u001b[0;32m    859\u001b[0m             )\n\u001b[1;32m--> 860\u001b[1;33m         return self._input_request(str(prompt),\n\u001b[0m\u001b[0;32m    861\u001b[0m             \u001b[0mself\u001b[0m\u001b[1;33m.\u001b[0m\u001b[0m_parent_ident\u001b[0m\u001b[1;33m,\u001b[0m\u001b[1;33m\u001b[0m\u001b[1;33m\u001b[0m\u001b[0m\n\u001b[0;32m    862\u001b[0m             \u001b[0mself\u001b[0m\u001b[1;33m.\u001b[0m\u001b[0m_parent_header\u001b[0m\u001b[1;33m,\u001b[0m\u001b[1;33m\u001b[0m\u001b[1;33m\u001b[0m\u001b[0m\n",
      "\u001b[1;32m~\\anaconda3\\lib\\site-packages\\ipykernel\\kernelbase.py\u001b[0m in \u001b[0;36m_input_request\u001b[1;34m(self, prompt, ident, parent, password)\u001b[0m\n\u001b[0;32m    902\u001b[0m             \u001b[1;32mexcept\u001b[0m \u001b[0mKeyboardInterrupt\u001b[0m\u001b[1;33m:\u001b[0m\u001b[1;33m\u001b[0m\u001b[1;33m\u001b[0m\u001b[0m\n\u001b[0;32m    903\u001b[0m                 \u001b[1;31m# re-raise KeyboardInterrupt, to truncate traceback\u001b[0m\u001b[1;33m\u001b[0m\u001b[1;33m\u001b[0m\u001b[1;33m\u001b[0m\u001b[0m\n\u001b[1;32m--> 904\u001b[1;33m                 \u001b[1;32mraise\u001b[0m \u001b[0mKeyboardInterrupt\u001b[0m\u001b[1;33m(\u001b[0m\u001b[1;34m\"Interrupted by user\"\u001b[0m\u001b[1;33m)\u001b[0m \u001b[1;32mfrom\u001b[0m \u001b[1;32mNone\u001b[0m\u001b[1;33m\u001b[0m\u001b[1;33m\u001b[0m\u001b[0m\n\u001b[0m\u001b[0;32m    905\u001b[0m             \u001b[1;32mexcept\u001b[0m \u001b[0mException\u001b[0m \u001b[1;32mas\u001b[0m \u001b[0me\u001b[0m\u001b[1;33m:\u001b[0m\u001b[1;33m\u001b[0m\u001b[1;33m\u001b[0m\u001b[0m\n\u001b[0;32m    906\u001b[0m                 \u001b[0mself\u001b[0m\u001b[1;33m.\u001b[0m\u001b[0mlog\u001b[0m\u001b[1;33m.\u001b[0m\u001b[0mwarning\u001b[0m\u001b[1;33m(\u001b[0m\u001b[1;34m\"Invalid Message:\"\u001b[0m\u001b[1;33m,\u001b[0m \u001b[0mexc_info\u001b[0m\u001b[1;33m=\u001b[0m\u001b[1;32mTrue\u001b[0m\u001b[1;33m)\u001b[0m\u001b[1;33m\u001b[0m\u001b[1;33m\u001b[0m\u001b[0m\n",
      "\u001b[1;31mKeyboardInterrupt\u001b[0m: Interrupted by user"
     ]
    }
   ],
   "source": [
    "import random\n",
    "import os\n",
    "\n",
    "\n",
    "player_1 = ({'Name' : input(\"Player 1 please enter your name : \")})\n",
    "player_2 = ({'Name' : input(\"Player 2 please enter your name : \")})\n",
    "os.system('cls')\n",
    "\n",
    "\n",
    "board = [-1] * 9\n",
    "\n",
    "def create_board() :\n",
    "    for y in range(3):\n",
    "        for x in range(3):\n",
    "            if board[x + 3 * y] == -1: print(str(x + 3 * y) + \"  \", end=\"\")\n",
    "            elif board[x + 3 * y] % 2 == 0: print(\"X  \", end=\"\")\n",
    "            else: print(\"O  \", end=\"\")\n",
    "        print()\n",
    "\n",
    "\n",
    "def draw_game(countOfTurns) :\n",
    "    os.system('cls')\n",
    "    print(\"Turn  \" + str(countOfTurns) + \"          \", end=\"\")\n",
    "    if countOfTurns % 2 == 0: print(player_1[\"Name\"] + \"'s turn ! (X)\")\n",
    "    else: print(player_2[\"Name\"] + \"'s turn ! (O)\")\n",
    "    print()\n",
    "    create_board()\n",
    "    print()\n",
    "\n",
    "\n",
    "def draw_winner() :\n",
    "    os.system('cls')\n",
    "    winner = checkWinCondition()\n",
    "    if winner == 1:\n",
    "        print(player_1[\"Name\"] + \" Won !\")\n",
    "    elif winner == 2:\n",
    "        print(player_2[\"Name\"] + \" Won !\")\n",
    "    else:\n",
    "        print(\"Its a tie\")\n",
    "    print()\n",
    "    create_board()\n",
    "\n",
    "\n",
    "def whoIsGoingToStart():\n",
    "    if random.randint(0,100) <= 50 :\n",
    "        starting_player = player_1\n",
    "    else :\n",
    "        starting_player = player_2\n",
    "    return(starting_player)\n",
    "\n",
    "\n",
    "def fullBoard():\n",
    "    for i in range(9):\n",
    "        if board[i] == -1: return False\n",
    "    return True\n",
    "\n",
    "\n",
    "\n",
    "def checkWinCondition():\n",
    "    solutions = [[0,1,2],[3,4,5],[6,7,8],[0,3,6],[1,4,7],[2,5,8],[0,4,8],[2,4,6]]\n",
    "    for i in solutions :\n",
    "        if board[i[0]] != -1 and board[i[1]] != -1 and board[i[2]] != -1:   #Testing 3 full cells \n",
    "            if board[i[0]] % 2 == board[i[1]] % 2 == board[i[2]] % 2:       #Checking if unique player fulfilled the cells\n",
    "                if board[i[0]] % 2 == 0: \n",
    "                    return 1\n",
    "                else: \n",
    "                    return 2\n",
    "    return 0\n",
    "\n",
    "\n",
    "def takeTurns():\n",
    "    countOfTurns = 0\n",
    "    if whoIsGoingToStart() is player_2:\n",
    "        countOfTurns = 1\n",
    "    while True:\n",
    "        draw_game(countOfTurns)\n",
    "        selected_cell = input(\"Please input the number of the cell you want to play in : \")\n",
    "        if selected_cell.isdigit and len(selected_cell) == 1 and board[int(selected_cell)] == -1: \n",
    "            board[int(selected_cell)] = countOfTurns\n",
    "            countOfTurns += 1\n",
    "        \n",
    "        if checkWinCondition() != 0: break \n",
    "        if fullBoard() : break \n",
    "    draw_winner()\n",
    "\n",
    "takeTurns()"
   ]
  },
  {
   "cell_type": "code",
   "execution_count": 2,
   "id": "3fdf98b0",
   "metadata": {},
   "outputs": [
    {
     "name": "stdout",
     "output_type": "stream",
     "text": [
      "0  1  2  \n",
      "3  4  5  \n",
      "6  7  8  \n"
     ]
    }
   ],
   "source": [
    "create_board()"
   ]
  },
  {
   "cell_type": "code",
   "execution_count": null,
   "id": "d7f39094",
   "metadata": {},
   "outputs": [],
   "source": [
    "\"\"\"Note: the command os.system('cls') does not seem very useful\"\"\"\n",
    "\"\"\"The code to create a board does work, however it is long and hard to follow without pen and paper\n",
    "A numpy array could probably do the job\n",
    "it is hard to be sure that all solutions have been listed. Maybe there is a way to make a pattern of solutions"
   ]
  }
 ],
 "metadata": {
  "kernelspec": {
   "display_name": "Python 3",
   "language": "python",
   "name": "python3"
  },
  "language_info": {
   "codemirror_mode": {
    "name": "ipython",
    "version": 3
   },
   "file_extension": ".py",
   "mimetype": "text/x-python",
   "name": "python",
   "nbconvert_exporter": "python",
   "pygments_lexer": "ipython3",
   "version": "3.8.8"
  }
 },
 "nbformat": 4,
 "nbformat_minor": 5
}
