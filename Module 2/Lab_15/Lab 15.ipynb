{
 "cells": [
  {
   "cell_type": "markdown",
   "id": "e9d045b6",
   "metadata": {},
   "source": [
    "###Challenge 1. Write a Python program to print all permutations of the string \"Ironhack\""
   ]
  },
  {
   "cell_type": "code",
   "execution_count": 1,
   "id": "66d209e8",
   "metadata": {},
   "outputs": [],
   "source": [
    "import itertools\n",
    " \n",
    "if __name__ == '__main__':\n",
    "    s = 'Ironhack'\n",
    "    nums = list(s)\n",
    "    permutations = list(itertools.permutations(nums))"
   ]
  },
  {
   "cell_type": "code",
   "execution_count": 4,
   "id": "0e9a38ac",
   "metadata": {},
   "outputs": [
    {
     "data": {
      "text/plain": [
       "40320"
      ]
     },
     "execution_count": 4,
     "metadata": {},
     "output_type": "execute_result"
    }
   ],
   "source": [
    "len(permutations)"
   ]
  },
  {
   "cell_type": "markdown",
   "id": "0d3b2e9d",
   "metadata": {},
   "source": [
    "Challenge 2: How many ways can you choose 3 people from a group of 17 for making the group projects teams?"
   ]
  },
  {
   "cell_type": "markdown",
   "id": "0f78d6b2",
   "metadata": {},
   "source": [
    "17C3 = 17!/(14!*3!) = 680"
   ]
  },
  {
   "cell_type": "markdown",
   "id": "bdf3ad66",
   "metadata": {},
   "source": [
    "Challenge 3: Let's imagine you need to organize the business processes in the coffee shop. You know that each cup can be made from 10 possible ingridients. But it is not profitable to use more than 5 portions of ingridients at once. These ingridients should not be unique (for example, you can put milk twice, and a chocolate onle). How many different variations of coffee you can include to the menu?"
   ]
  },
  {
   "cell_type": "markdown",
   "id": "ea87c901",
   "metadata": {},
   "source": [
    "10C1 + 10C2 + 10C3 + 10C4 + 10C5 = 3002\n"
   ]
  },
  {
   "cell_type": "markdown",
   "id": "ec1078fb",
   "metadata": {},
   "source": [
    "Challenge 4: Given an array of distinct integers, return all the possible permutations. You can return the answer in any order. The lenght of array and the integers are given by user and may vary"
   ]
  },
  {
   "cell_type": "code",
   "execution_count": 12,
   "id": "f6de0593",
   "metadata": {},
   "outputs": [
    {
     "name": "stdout",
     "output_type": "stream",
     "text": [
      "Please type an integer number as the length of array: 4\n",
      "Please type an integer number as the range of array: 9\n",
      "[(2, 0, 3, 4), (2, 0, 4, 3), (2, 3, 0, 4), (2, 3, 4, 0), (2, 4, 0, 3), (2, 4, 3, 0), (0, 2, 3, 4), (0, 2, 4, 3), (0, 3, 2, 4), (0, 3, 4, 2), (0, 4, 2, 3), (0, 4, 3, 2), (3, 2, 0, 4), (3, 2, 4, 0), (3, 0, 2, 4), (3, 0, 4, 2), (3, 4, 2, 0), (3, 4, 0, 2), (4, 2, 0, 3), (4, 2, 3, 0), (4, 0, 2, 3), (4, 0, 3, 2), (4, 3, 2, 0), (4, 3, 0, 2)]\n"
     ]
    }
   ],
   "source": [
    "import random\n",
    "len_array = int(input('Please type an integer number as the length of array: '))\n",
    "range_array = int(input('Please type an integer number as the range of array: '))\n",
    "array = random.sample(range(range_array), len_array)\n",
    "\n",
    "import itertools\n",
    " \n",
    "if __name__ == '__main__':\n",
    "    nums = list(array)\n",
    "    permutations = list(itertools.permutations(nums))\n",
    "\n",
    "print(permutations)"
   ]
  },
  {
   "cell_type": "markdown",
   "id": "c353caf3",
   "metadata": {},
   "source": [
    "Challenge 5: Use intertools library to solve the following problem: Six books are lying on a table in front of you. How many ways can you arrange the books, considering both the left-to-right order of the books and whether they’re set with the front cover facing up or down?"
   ]
  },
  {
   "cell_type": "code",
   "execution_count": 11,
   "id": "645a20d3",
   "metadata": {},
   "outputs": [
    {
     "data": {
      "text/plain": [
       "46080"
      ]
     },
     "execution_count": 11,
     "metadata": {},
     "output_type": "execute_result"
    }
   ],
   "source": [
    "from itertools import permutations, product\n",
    "books = 'ABCDEF'\n",
    "orient = 'ud'\n",
    "arrange = []\n",
    "for c in product(permutations(books), product(orient, repeat=len(books))):\n",
    "  arrange.append(c)\n",
    "len(arrange)"
   ]
  },
  {
   "cell_type": "code",
   "execution_count": null,
   "id": "74791c43",
   "metadata": {},
   "outputs": [],
   "source": []
  }
 ],
 "metadata": {
  "kernelspec": {
   "display_name": "Python 3",
   "language": "python",
   "name": "python3"
  },
  "language_info": {
   "codemirror_mode": {
    "name": "ipython",
    "version": 3
   },
   "file_extension": ".py",
   "mimetype": "text/x-python",
   "name": "python",
   "nbconvert_exporter": "python",
   "pygments_lexer": "ipython3",
   "version": "3.8.8"
  }
 },
 "nbformat": 4,
 "nbformat_minor": 5
}
