{
 "cells": [
  {
   "cell_type": "markdown",
   "metadata": {},
   "source": [
    "# Before your start:\n",
    "- Read the README.md file.\n",
    "- Comment as much as you can and use the resources (README.md file).\n",
    "- Happy learning!"
   ]
  },
  {
   "cell_type": "code",
   "execution_count": 2,
   "metadata": {},
   "outputs": [],
   "source": [
    "# Libraries\n",
    "import matplotlib.pyplot as plt\n",
    "import numpy as np\n",
    "import matplotlib.pyplot as plt\n",
    "import scipy\n",
    "from scipy import stats\n",
    "import seaborn as sns"
   ]
  },
  {
   "cell_type": "code",
   "execution_count": 3,
   "metadata": {},
   "outputs": [
    {
     "name": "stdout",
     "output_type": "stream",
     "text": [
      "Requirement already satisfied: streamlit in c:\\users\\gixi_\\anaconda3\\lib\\site-packages (1.7.0)\n",
      "Requirement already satisfied: blinker in c:\\users\\gixi_\\anaconda3\\lib\\site-packages (from streamlit) (1.4)\n",
      "Requirement already satisfied: cachetools>=4.0 in c:\\users\\gixi_\\anaconda3\\lib\\site-packages (from streamlit) (5.0.0)\n",
      "Requirement already satisfied: validators in c:\\users\\gixi_\\anaconda3\\lib\\site-packages (from streamlit) (0.18.2)\n",
      "Requirement already satisfied: gitpython!=3.1.19 in c:\\users\\gixi_\\anaconda3\\lib\\site-packages (from streamlit) (3.1.27)\n",
      "Requirement already satisfied: pandas>=0.21.0 in c:\\users\\gixi_\\anaconda3\\lib\\site-packages (from streamlit) (1.2.4)\n",
      "Requirement already satisfied: pydeck>=0.1.dev5 in c:\\users\\gixi_\\anaconda3\\lib\\site-packages (from streamlit) (0.7.1)\n",
      "Requirement already satisfied: protobuf!=3.11,>=3.6.0 in c:\\users\\gixi_\\anaconda3\\lib\\site-packages (from streamlit) (3.19.4)\n",
      "Requirement already satisfied: tzlocal in c:\\users\\gixi_\\anaconda3\\lib\\site-packages (from streamlit) (4.1)\n",
      "Requirement already satisfied: pyarrow in c:\\users\\gixi_\\anaconda3\\lib\\site-packages (from streamlit) (7.0.0)\n",
      "Requirement already satisfied: importlib-metadata>=1.4 in c:\\users\\gixi_\\anaconda3\\lib\\site-packages (from streamlit) (3.10.0)\n",
      "Requirement already satisfied: python-dateutil in c:\\users\\gixi_\\anaconda3\\lib\\site-packages (from streamlit) (2.8.1)\n",
      "Requirement already satisfied: packaging in c:\\users\\gixi_\\anaconda3\\lib\\site-packages (from streamlit) (20.9)\n",
      "Requirement already satisfied: base58 in c:\\users\\gixi_\\anaconda3\\lib\\site-packages (from streamlit) (2.1.1)\n",
      "Requirement already satisfied: numpy in c:\\users\\gixi_\\anaconda3\\lib\\site-packages (from streamlit) (1.20.1)\n",
      "Requirement already satisfied: astor in c:\\users\\gixi_\\anaconda3\\lib\\site-packages (from streamlit) (0.8.1)\n",
      "Requirement already satisfied: tornado>=5.0 in c:\\users\\gixi_\\anaconda3\\lib\\site-packages (from streamlit) (6.1)\n",
      "Requirement already satisfied: attrs in c:\\users\\gixi_\\anaconda3\\lib\\site-packages (from streamlit) (20.3.0)\n",
      "Requirement already satisfied: click>=7.0 in c:\\users\\gixi_\\anaconda3\\lib\\site-packages (from streamlit) (7.1.2)\n",
      "Requirement already satisfied: requests in c:\\users\\gixi_\\anaconda3\\lib\\site-packages (from streamlit) (2.27.1)\n",
      "Requirement already satisfied: pillow>=6.2.0 in c:\\users\\gixi_\\anaconda3\\lib\\site-packages (from streamlit) (8.2.0)\n",
      "Requirement already satisfied: semver in c:\\users\\gixi_\\anaconda3\\lib\\site-packages (from streamlit) (2.13.0)\n",
      "Requirement already satisfied: watchdog in c:\\users\\gixi_\\anaconda3\\lib\\site-packages (from streamlit) (1.0.2)\n",
      "Requirement already satisfied: toml in c:\\users\\gixi_\\anaconda3\\lib\\site-packages (from streamlit) (0.10.2)\n",
      "Requirement already satisfied: altair>=3.2.0 in c:\\users\\gixi_\\anaconda3\\lib\\site-packages (from streamlit) (4.2.0)\n",
      "Note: you may need to restart the kernel to use updated packages.\n",
      "Requirement already satisfied: pympler>=0.9 in c:\\users\\gixi_\\anaconda3\\lib\\site-packages (from streamlit) (1.0.1)\n",
      "Requirement already satisfied: toolz in c:\\users\\gixi_\\anaconda3\\lib\\site-packages (from altair>=3.2.0->streamlit) (0.11.1)\n",
      "Requirement already satisfied: jinja2 in c:\\users\\gixi_\\anaconda3\\lib\\site-packages (from altair>=3.2.0->streamlit) (2.11.3)\n",
      "Requirement already satisfied: jsonschema>=3.0 in c:\\users\\gixi_\\anaconda3\\lib\\site-packages (from altair>=3.2.0->streamlit) (3.2.0)\n",
      "Requirement already satisfied: entrypoints in c:\\users\\gixi_\\anaconda3\\lib\\site-packages (from altair>=3.2.0->streamlit) (0.3)\n",
      "Requirement already satisfied: gitdb<5,>=4.0.1 in c:\\users\\gixi_\\anaconda3\\lib\\site-packages (from gitpython!=3.1.19->streamlit) (4.0.9)\n",
      "Requirement already satisfied: smmap<6,>=3.0.1 in c:\\users\\gixi_\\anaconda3\\lib\\site-packages (from gitdb<5,>=4.0.1->gitpython!=3.1.19->streamlit) (5.0.0)\n",
      "Requirement already satisfied: zipp>=0.5 in c:\\users\\gixi_\\anaconda3\\lib\\site-packages (from importlib-metadata>=1.4->streamlit) (3.4.1)\n",
      "Requirement already satisfied: pyrsistent>=0.14.0 in c:\\users\\gixi_\\anaconda3\\lib\\site-packages (from jsonschema>=3.0->altair>=3.2.0->streamlit) (0.17.3)\n",
      "Requirement already satisfied: setuptools in c:\\users\\gixi_\\anaconda3\\lib\\site-packages (from jsonschema>=3.0->altair>=3.2.0->streamlit) (52.0.0.post20210125)\n",
      "Requirement already satisfied: six>=1.11.0 in c:\\users\\gixi_\\anaconda3\\lib\\site-packages (from jsonschema>=3.0->altair>=3.2.0->streamlit) (1.15.0)\n",
      "Requirement already satisfied: pytz>=2017.3 in c:\\users\\gixi_\\anaconda3\\lib\\site-packages (from pandas>=0.21.0->streamlit) (2021.1)\n",
      "Requirement already satisfied: ipywidgets>=7.0.0 in c:\\users\\gixi_\\anaconda3\\lib\\site-packages (from pydeck>=0.1.dev5->streamlit) (7.6.3)\n",
      "Requirement already satisfied: ipykernel>=5.1.2 in c:\\users\\gixi_\\anaconda3\\lib\\site-packages (from pydeck>=0.1.dev5->streamlit) (5.3.4)\n",
      "Requirement already satisfied: traitlets>=4.3.2 in c:\\users\\gixi_\\anaconda3\\lib\\site-packages (from pydeck>=0.1.dev5->streamlit) (5.0.5)\n",
      "Requirement already satisfied: jupyter-client in c:\\users\\gixi_\\anaconda3\\lib\\site-packages (from ipykernel>=5.1.2->pydeck>=0.1.dev5->streamlit) (6.1.12)\n",
      "Requirement already satisfied: ipython>=5.0.0 in c:\\users\\gixi_\\anaconda3\\lib\\site-packages (from ipykernel>=5.1.2->pydeck>=0.1.dev5->streamlit) (7.22.0)\n",
      "Requirement already satisfied: prompt-toolkit!=3.0.0,!=3.0.1,<3.1.0,>=2.0.0 in c:\\users\\gixi_\\anaconda3\\lib\\site-packages (from ipython>=5.0.0->ipykernel>=5.1.2->pydeck>=0.1.dev5->streamlit) (3.0.17)\n",
      "Requirement already satisfied: pickleshare in c:\\users\\gixi_\\anaconda3\\lib\\site-packages (from ipython>=5.0.0->ipykernel>=5.1.2->pydeck>=0.1.dev5->streamlit) (0.7.5)\n",
      "Requirement already satisfied: decorator in c:\\users\\gixi_\\anaconda3\\lib\\site-packages (from ipython>=5.0.0->ipykernel>=5.1.2->pydeck>=0.1.dev5->streamlit) (5.0.6)\n",
      "Requirement already satisfied: jedi>=0.16 in c:\\users\\gixi_\\anaconda3\\lib\\site-packages (from ipython>=5.0.0->ipykernel>=5.1.2->pydeck>=0.1.dev5->streamlit) (0.17.2)\n",
      "Requirement already satisfied: colorama in c:\\users\\gixi_\\anaconda3\\lib\\site-packages (from ipython>=5.0.0->ipykernel>=5.1.2->pydeck>=0.1.dev5->streamlit) (0.4.4)\n",
      "Requirement already satisfied: pygments in c:\\users\\gixi_\\anaconda3\\lib\\site-packages (from ipython>=5.0.0->ipykernel>=5.1.2->pydeck>=0.1.dev5->streamlit) (2.8.1)\n",
      "Requirement already satisfied: backcall in c:\\users\\gixi_\\anaconda3\\lib\\site-packages (from ipython>=5.0.0->ipykernel>=5.1.2->pydeck>=0.1.dev5->streamlit) (0.2.0)\n",
      "Requirement already satisfied: jupyterlab-widgets>=1.0.0 in c:\\users\\gixi_\\anaconda3\\lib\\site-packages (from ipywidgets>=7.0.0->pydeck>=0.1.dev5->streamlit) (1.0.0)\n",
      "Requirement already satisfied: widgetsnbextension~=3.5.0 in c:\\users\\gixi_\\anaconda3\\lib\\site-packages (from ipywidgets>=7.0.0->pydeck>=0.1.dev5->streamlit) (3.5.1)\n",
      "Requirement already satisfied: nbformat>=4.2.0 in c:\\users\\gixi_\\anaconda3\\lib\\site-packages (from ipywidgets>=7.0.0->pydeck>=0.1.dev5->streamlit) (5.1.3)\n",
      "Requirement already satisfied: parso<0.8.0,>=0.7.0 in c:\\users\\gixi_\\anaconda3\\lib\\site-packages (from jedi>=0.16->ipython>=5.0.0->ipykernel>=5.1.2->pydeck>=0.1.dev5->streamlit) (0.7.0)\n",
      "Requirement already satisfied: MarkupSafe>=0.23 in c:\\users\\gixi_\\anaconda3\\lib\\site-packages (from jinja2->altair>=3.2.0->streamlit) (2.0.1)\n",
      "Requirement already satisfied: jupyter-core in c:\\users\\gixi_\\anaconda3\\lib\\site-packages (from nbformat>=4.2.0->ipywidgets>=7.0.0->pydeck>=0.1.dev5->streamlit) (4.7.1)\n",
      "Requirement already satisfied: ipython-genutils in c:\\users\\gixi_\\anaconda3\\lib\\site-packages (from nbformat>=4.2.0->ipywidgets>=7.0.0->pydeck>=0.1.dev5->streamlit) (0.2.0)\n",
      "Requirement already satisfied: wcwidth in c:\\users\\gixi_\\anaconda3\\lib\\site-packages (from prompt-toolkit!=3.0.0,!=3.0.1,<3.1.0,>=2.0.0->ipython>=5.0.0->ipykernel>=5.1.2->pydeck>=0.1.dev5->streamlit) (0.2.5)\n",
      "Requirement already satisfied: notebook>=4.4.1 in c:\\users\\gixi_\\anaconda3\\lib\\site-packages (from widgetsnbextension~=3.5.0->ipywidgets>=7.0.0->pydeck>=0.1.dev5->streamlit) (6.3.0)\n",
      "Requirement already satisfied: argon2-cffi in c:\\users\\gixi_\\anaconda3\\lib\\site-packages (from notebook>=4.4.1->widgetsnbextension~=3.5.0->ipywidgets>=7.0.0->pydeck>=0.1.dev5->streamlit) (20.1.0)\n",
      "Requirement already satisfied: Send2Trash>=1.5.0 in c:\\users\\gixi_\\anaconda3\\lib\\site-packages (from notebook>=4.4.1->widgetsnbextension~=3.5.0->ipywidgets>=7.0.0->pydeck>=0.1.dev5->streamlit) (1.5.0)\n",
      "Requirement already satisfied: pyzmq>=17 in c:\\users\\gixi_\\anaconda3\\lib\\site-packages (from notebook>=4.4.1->widgetsnbextension~=3.5.0->ipywidgets>=7.0.0->pydeck>=0.1.dev5->streamlit) (20.0.0)\n",
      "Requirement already satisfied: terminado>=0.8.3 in c:\\users\\gixi_\\anaconda3\\lib\\site-packages (from notebook>=4.4.1->widgetsnbextension~=3.5.0->ipywidgets>=7.0.0->pydeck>=0.1.dev5->streamlit) (0.9.4)\n",
      "Requirement already satisfied: nbconvert in c:\\users\\gixi_\\anaconda3\\lib\\site-packages (from notebook>=4.4.1->widgetsnbextension~=3.5.0->ipywidgets>=7.0.0->pydeck>=0.1.dev5->streamlit) (6.0.7)\n",
      "Requirement already satisfied: prometheus-client in c:\\users\\gixi_\\anaconda3\\lib\\site-packages (from notebook>=4.4.1->widgetsnbextension~=3.5.0->ipywidgets>=7.0.0->pydeck>=0.1.dev5->streamlit) (0.10.1)\n",
      "Requirement already satisfied: pywin32>=1.0 in c:\\users\\gixi_\\anaconda3\\lib\\site-packages (from jupyter-core->nbformat>=4.2.0->ipywidgets>=7.0.0->pydeck>=0.1.dev5->streamlit) (227)\n",
      "Requirement already satisfied: pywinpty>=0.5 in c:\\users\\gixi_\\anaconda3\\lib\\site-packages (from terminado>=0.8.3->notebook>=4.4.1->widgetsnbextension~=3.5.0->ipywidgets>=7.0.0->pydeck>=0.1.dev5->streamlit) (0.5.7)\n",
      "Requirement already satisfied: cffi>=1.0.0 in c:\\users\\gixi_\\anaconda3\\lib\\site-packages (from argon2-cffi->notebook>=4.4.1->widgetsnbextension~=3.5.0->ipywidgets>=7.0.0->pydeck>=0.1.dev5->streamlit) (1.14.5)\n",
      "Requirement already satisfied: pycparser in c:\\users\\gixi_\\anaconda3\\lib\\site-packages (from cffi>=1.0.0->argon2-cffi->notebook>=4.4.1->widgetsnbextension~=3.5.0->ipywidgets>=7.0.0->pydeck>=0.1.dev5->streamlit) (2.20)\n",
      "Requirement already satisfied: nbclient<0.6.0,>=0.5.0 in c:\\users\\gixi_\\anaconda3\\lib\\site-packages (from nbconvert->notebook>=4.4.1->widgetsnbextension~=3.5.0->ipywidgets>=7.0.0->pydeck>=0.1.dev5->streamlit) (0.5.3)\n",
      "Requirement already satisfied: bleach in c:\\users\\gixi_\\anaconda3\\lib\\site-packages (from nbconvert->notebook>=4.4.1->widgetsnbextension~=3.5.0->ipywidgets>=7.0.0->pydeck>=0.1.dev5->streamlit) (3.3.0)\n",
      "Requirement already satisfied: mistune<2,>=0.8.1 in c:\\users\\gixi_\\anaconda3\\lib\\site-packages (from nbconvert->notebook>=4.4.1->widgetsnbextension~=3.5.0->ipywidgets>=7.0.0->pydeck>=0.1.dev5->streamlit) (0.8.4)\n",
      "Requirement already satisfied: testpath in c:\\users\\gixi_\\anaconda3\\lib\\site-packages (from nbconvert->notebook>=4.4.1->widgetsnbextension~=3.5.0->ipywidgets>=7.0.0->pydeck>=0.1.dev5->streamlit) (0.4.4)\n",
      "Requirement already satisfied: defusedxml in c:\\users\\gixi_\\anaconda3\\lib\\site-packages (from nbconvert->notebook>=4.4.1->widgetsnbextension~=3.5.0->ipywidgets>=7.0.0->pydeck>=0.1.dev5->streamlit) (0.7.1)\n",
      "Requirement already satisfied: jupyterlab-pygments in c:\\users\\gixi_\\anaconda3\\lib\\site-packages (from nbconvert->notebook>=4.4.1->widgetsnbextension~=3.5.0->ipywidgets>=7.0.0->pydeck>=0.1.dev5->streamlit) (0.1.2)\n",
      "Requirement already satisfied: pandocfilters>=1.4.1 in c:\\users\\gixi_\\anaconda3\\lib\\site-packages (from nbconvert->notebook>=4.4.1->widgetsnbextension~=3.5.0->ipywidgets>=7.0.0->pydeck>=0.1.dev5->streamlit) (1.4.3)\n",
      "Requirement already satisfied: async-generator in c:\\users\\gixi_\\anaconda3\\lib\\site-packages (from nbclient<0.6.0,>=0.5.0->nbconvert->notebook>=4.4.1->widgetsnbextension~=3.5.0->ipywidgets>=7.0.0->pydeck>=0.1.dev5->streamlit) (1.10)\n",
      "Requirement already satisfied: nest-asyncio in c:\\users\\gixi_\\anaconda3\\lib\\site-packages (from nbclient<0.6.0,>=0.5.0->nbconvert->notebook>=4.4.1->widgetsnbextension~=3.5.0->ipywidgets>=7.0.0->pydeck>=0.1.dev5->streamlit) (1.5.1)\n",
      "Requirement already satisfied: webencodings in c:\\users\\gixi_\\anaconda3\\lib\\site-packages (from bleach->nbconvert->notebook>=4.4.1->widgetsnbextension~=3.5.0->ipywidgets>=7.0.0->pydeck>=0.1.dev5->streamlit) (0.5.1)\n",
      "Requirement already satisfied: pyparsing>=2.0.2 in c:\\users\\gixi_\\anaconda3\\lib\\site-packages (from packaging->streamlit) (2.4.7)\n",
      "Requirement already satisfied: idna<4,>=2.5 in c:\\users\\gixi_\\anaconda3\\lib\\site-packages (from requests->streamlit) (2.10)\n",
      "Requirement already satisfied: certifi>=2017.4.17 in c:\\users\\gixi_\\anaconda3\\lib\\site-packages (from requests->streamlit) (2021.10.8)\n",
      "Requirement already satisfied: urllib3<1.27,>=1.21.1 in c:\\users\\gixi_\\anaconda3\\lib\\site-packages (from requests->streamlit) (1.26.4)\n",
      "Requirement already satisfied: charset-normalizer~=2.0.0 in c:\\users\\gixi_\\anaconda3\\lib\\site-packages (from requests->streamlit) (2.0.12)\n",
      "Requirement already satisfied: pytz-deprecation-shim in c:\\users\\gixi_\\anaconda3\\lib\\site-packages (from tzlocal->streamlit) (0.1.0.post0)\n",
      "Requirement already satisfied: tzdata in c:\\users\\gixi_\\anaconda3\\lib\\site-packages (from tzlocal->streamlit) (2022.1)\n",
      "Requirement already satisfied: backports.zoneinfo in c:\\users\\gixi_\\anaconda3\\lib\\site-packages (from tzlocal->streamlit) (0.2.1)\n"
     ]
    }
   ],
   "source": [
    "pip install streamlit"
   ]
  },
  {
   "cell_type": "markdown",
   "metadata": {},
   "source": [
    "# Challenge 1 - Generate and Plot Normal Distributions\n",
    "#### Step 1: Generate samples and test normal distribution.\n",
    "\n",
    "Use mean=50, standard_deviation=5, and sample_size=[10, 50, 500, 5000] to generate 4 random samples that are normally distributed.\n",
    "\n",
    "**Hint**: Read the documentation for `scipy.stats.norm.rvs`. The function will help you create the normal random samples."
   ]
  },
  {
   "cell_type": "code",
   "execution_count": 4,
   "metadata": {},
   "outputs": [],
   "source": [
    "# your code here\n",
    "sample_size=[10, 50, 500, 5000]\n",
    "rvs_values1 = stats.norm.rvs(loc = 50, scale = 5, size = sample_size[0])\n",
    "rvs_values2 = stats.norm.rvs(loc = 50, scale = 5, size = sample_size[1])\n",
    "rvs_values3 = stats.norm.rvs(loc = 50, scale = 5, size = sample_size[2])\n",
    "rvs_values4 = stats.norm.rvs(loc = 50, scale = 5, size = sample_size[3])\n"
   ]
  },
  {
   "cell_type": "markdown",
   "metadata": {},
   "source": [
    "#### Step 2: Plot normal distributions.\n",
    "\n",
    "To check the shape of the samples you have just created, you can use matplotlib. For example, you can use it to plot a histogram of each sample. \n",
    "\n",
    "If you did, your outputs would be really similar to the ones below:\n",
    "\n",
    "![normal distributions with different sample sizes](../images/ch-1.png)"
   ]
  },
  {
   "cell_type": "code",
   "execution_count": 5,
   "metadata": {},
   "outputs": [
    {
     "data": {
      "image/png": "[encoded data removed]",
      "text/plain": [
       "<Figure size 216x720 with 4 Axes>"
      ]
     },
     "metadata": {
      "needs_background": "light"
     },
     "output_type": "display_data"
    }
   ],
   "source": [
    "fig, axs = plt.subplots(4, figsize = (3,10))\n",
    "\n",
    "plt.subplots_adjust(left=0.1,\n",
    "                    bottom=0.1, \n",
    "                    right=0.9, \n",
    "                    top=0.9, \n",
    "                    wspace=0.4, \n",
    "                    hspace=0.4)\n",
    "fig.suptitle('Normal Distributions with different sample sizes')\n",
    "axs[0].hist(rvs_values1)\n",
    "axs[0].title.set_text('Sample size 10')\n",
    "axs[1].hist(rvs_values2)\n",
    "axs[2].hist(rvs_values3)\n",
    "axs[3].hist(rvs_values4)\n",
    "axs[1].title.set_text('Sample size 50')\n",
    "axs[2].title.set_text('Sample size 500')\n",
    "axs[3].title.set_text('Sample size 5000')\n",
    "\n"
   ]
  },
  {
   "cell_type": "markdown",
   "metadata": {},
   "source": [
    "#### Compare the distributions above. What do you observe? Explain with the Central Limit Theorem."
   ]
  },
  {
   "cell_type": "code",
   "execution_count": 6,
   "metadata": {},
   "outputs": [
    {
     "data": {
      "text/plain": [
       "'\\nyour comments here\\n#the big enough sample size, the distribution will be normalized\\n'"
      ]
     },
     "execution_count": 6,
     "metadata": {},
     "output_type": "execute_result"
    }
   ],
   "source": [
    "\"\"\"\n",
    "your comments here\n",
    "#the big enough sample size, the distribution will be normalized\n",
    "\"\"\""
   ]
  },
  {
   "cell_type": "markdown",
   "metadata": {},
   "source": [
    "#### Bonus: Plot normal distributions.\n",
    "\n",
    "Even though you still don't know how to use matplotlib, as a bonus challenge, you can try to reproduce the plot above using the samples you have created. This plotting library will be introduced later this week, so don't worry if you don't manage to get the results you want now: you can always come back to solve this challenge later."
   ]
  },
  {
   "cell_type": "code",
   "execution_count": 7,
   "metadata": {
    "scrolled": true
   },
   "outputs": [
    {
     "name": "stderr",
     "output_type": "stream",
     "text": [
      "2022-03-23 13:02:49.845 \n",
      "  \u001b[33m\u001b[1mWarning:\u001b[0m to view this Streamlit app on a browser, run it with the following\n",
      "  command:\n",
      "\n",
      "    streamlit run C:\\Users\\gixi_\\anaconda3\\lib\\site-packages\\ipykernel_launcher.py [ARGUMENTS]\n"
     ]
    },
    {
     "data": {
      "text/plain": [
       "DeltaGenerator(_root_container=0, _provided_cursor=None, _parent=None, _block_type=None, _form_data=None)"
      ]
     },
     "execution_count": 7,
     "metadata": {},
     "output_type": "execute_result"
    },
    {
     "data": {
      "image/png": "[encoded data removed]",
      "text/plain": [
       "<Figure size 216x720 with 4 Axes>"
      ]
     },
     "metadata": {
      "needs_background": "light"
     },
     "output_type": "display_data"
    }
   ],
   "source": [
    "# your code here\n",
    "import streamlit as st\n",
    "import pandas as pd\n",
    "import plotly.graph_objects as go\n",
    "\n",
    "fig, axs = plt.subplots(4, figsize = (3,10))\n",
    "\n",
    "plt.subplots_adjust(left=0.1,\n",
    "                    bottom=0.1, \n",
    "                    right=0.9, \n",
    "                    top=0.9, \n",
    "                    wspace=0.4, \n",
    "                    hspace=0.4)\n",
    "fig.suptitle('Normal Distributions with different sample sizes')\n",
    "axs[0].hist(rvs_values1)\n",
    "axs[0].title.set_text('Sample size 10')\n",
    "axs[1].hist(rvs_values2)\n",
    "axs[2].hist(rvs_values3)\n",
    "axs[3].hist(rvs_values4)\n",
    "axs[1].title.set_text('Sample size 50')\n",
    "axs[2].title.set_text('Sample size 500')\n",
    "axs[3].title.set_text('Sample size 5000')\n",
    "st.pyplot(fig)\n"
   ]
  },
  {
   "cell_type": "markdown",
   "metadata": {},
   "source": [
    "# Challenge 2 - Plot Probability Mass Function (PMF)"
   ]
  },
  {
   "cell_type": "markdown",
   "metadata": {},
   "source": [
    "### Background knowledge\n",
    "\n",
    "[PMF](https://en.wikipedia.org/wiki/Probability_mass_function) shows the probability distribution of a **discrete random variable**. A [discrete random variable](https://en.wikipedia.org/wiki/Random_variable#Discrete_random_variable) has random numeric values that are not continuous. For example, the number of people in a household can only be integers but not floats. Therefore the number of people in a household is a discrete variable.\n",
    "\n",
    "### Challenge\n",
    "\n",
    "We assume that the probability of clicking an advertisement in a Youtube video is 0.15. We have a sample of 5 people who watched the video and we want to plot the PMF for a binomial distribution.\n",
    "\n",
    "#### Step 1: Create the binomial distribution mentioned above. Store the result in a variable called `dist`. \n",
    "**Hint**: use binom from `scipy.stats.binom`. This object takes *n* and *p* as shape parameters, where *n* is the number of independent experiments and *p* the probability of success of the experiment."
   ]
  },
  {
   "cell_type": "code",
   "execution_count": 8,
   "metadata": {},
   "outputs": [],
   "source": [
    "# your code here\n",
    "from scipy.stats import binom\n",
    "r_values = list(range(5))\n",
    "dist = [binom.pmf(r,5, 0.15) for r in r_values]\n"
   ]
  },
  {
   "cell_type": "markdown",
   "metadata": {},
   "source": [
    "#### Step 2: Plot the PMF of the distribution. \n",
    "To do it, run the code in the cell below. \n",
    "\n",
    "**Hint**: Your output should look like the one below:\n",
    "\n",
    "![binom 10](../images/ch-2.png)"
   ]
  },
  {
   "cell_type": "code",
   "execution_count": 9,
   "metadata": {},
   "outputs": [
    {
     "data": {
      "image/png": "[encoded data removed]",
      "text/plain": [
       "<Figure size 432x288 with 1 Axes>"
      ]
     },
     "metadata": {
      "needs_background": "light"
     },
     "output_type": "display_data"
    }
   ],
   "source": [
    "plt.plot(r_values, dist)\n",
    "plt.show()"
   ]
  },
  {
   "cell_type": "markdown",
   "metadata": {},
   "source": [
    "# run this code\n",
    "x = range(n)\n",
    "\n",
    "fig, ax = plt.subplots(1, 1)\n",
    "\n",
    "plt.plot(x, dist.pmf(x))\n",
    "\n",
    "plt.show()"
   ]
  },
  {
   "cell_type": "markdown",
   "metadata": {},
   "source": [
    "#### Step 3: Explain what you observe from the plot above."
   ]
  },
  {
   "cell_type": "code",
   "execution_count": 10,
   "metadata": {},
   "outputs": [
    {
     "data": {
      "text/plain": [
       "'\\nyour comments here\\n'"
      ]
     },
     "execution_count": 10,
     "metadata": {},
     "output_type": "execute_result"
    }
   ],
   "source": [
    "\"\"\"\n",
    "your comments here\n",
    "\"\"\""
   ]
  },
  {
   "cell_type": "markdown",
   "metadata": {},
   "source": [
    "#### Step 4: Now plot PMF with 50, 500, and 5000 visitors.\n",
    "To plot the PMF, you can copy the code given above and replace variable `dist` for the name of the variables where you have stored the new binomial objects for 50, 500 and 5000 visitors."
   ]
  },
  {
   "cell_type": "code",
   "execution_count": 11,
   "metadata": {},
   "outputs": [
    {
     "data": {
      "image/png": "[encoded data removed]",
      "text/plain": [
       "<Figure size 216x720 with 3 Axes>"
      ]
     },
     "metadata": {
      "needs_background": "light"
     },
     "output_type": "display_data"
    }
   ],
   "source": [
    "# your code here\n",
    "dist1 = [binom.pmf(r,50, 0.15) for r in list(range(50))]\n",
    "dist2 = [binom.pmf(r,500, 0.15) for r in list(range(500))]\n",
    "dist3 = [binom.pmf(r,5000, 0.15) for r in list(range(5000))]\n",
    "fig, axs = plt.subplots(3, figsize = (3,10))\n",
    "\n",
    "plt.subplots_adjust(left=0.1,\n",
    "                    bottom=0.1, \n",
    "                    right=0.9, \n",
    "                    top=0.9, \n",
    "                    wspace=0.4, \n",
    "                    hspace=0.4)\n",
    "fig.suptitle('PMF with different sample sizes')\n",
    "axs[0].plot(dist1)\n",
    "axs[1].plot(dist2)\n",
    "axs[2].plot(dist3)\n",
    "axs[0].title.set_text('Sample size 50')\n",
    "axs[1].title.set_text('Sample size 500')\n",
    "axs[2].title.set_text('Sample size 5000')\n",
    "\n"
   ]
  },
  {
   "cell_type": "markdown",
   "metadata": {},
   "source": [
    "#### Step 5: What did you notice from the distribution plots? Comment your findings."
   ]
  },
  {
   "cell_type": "code",
   "execution_count": 12,
   "metadata": {},
   "outputs": [
    {
     "data": {
      "text/plain": [
       "'\\nyour comments here\\n'"
      ]
     },
     "execution_count": 12,
     "metadata": {},
     "output_type": "execute_result"
    }
   ],
   "source": [
    "\"\"\"\n",
    "your comments here\n",
    "\"\"\""
   ]
  },
  {
   "cell_type": "markdown",
   "metadata": {},
   "source": [
    "# Challenge 3\n",
    "#### Step 1: Research the Poisson distribution. Write about your own understanding of the Poisson distribution."
   ]
  },
  {
   "cell_type": "code",
   "execution_count": 13,
   "metadata": {},
   "outputs": [
    {
     "data": {
      "text/plain": [
       "'\\nyour comments here\\n is a discrete probability distribution that expresses the probability of a given number of events occurring in a fixed interval of time or space if these events occur with a known constant mean rate and independently of the time since the last event.\\n'"
      ]
     },
     "execution_count": 13,
     "metadata": {},
     "output_type": "execute_result"
    }
   ],
   "source": [
    "\"\"\"\n",
    "your comments here\n",
    " is a discrete probability distribution that expresses the probability of a given number of events occurring in a fixed interval of time or space if these events occur with a known constant mean rate and independently of the time since the last event.\n",
    "\"\"\""
   ]
  },
  {
   "cell_type": "markdown",
   "metadata": {},
   "source": [
    "#### Step 2: A website has an average of 300 visits per day. What is the probability of getting 320 visitors in a day?\n",
    "\n",
    "**Hint**: use `scipy.stats.poisson.pmf`."
   ]
  },
  {
   "cell_type": "code",
   "execution_count": 14,
   "metadata": {},
   "outputs": [
    {
     "data": {
      "text/plain": [
       "0.011612348610402475"
      ]
     },
     "execution_count": 14,
     "metadata": {},
     "output_type": "execute_result"
    }
   ],
   "source": [
    "# your code here\n",
    "from scipy.stats import poisson\n",
    "stats.poisson.pmf(320, mu=300)"
   ]
  },
  {
   "cell_type": "markdown",
   "metadata": {},
   "source": [
    "#### Step 3: What is the probability of getting 60 visits?"
   ]
  },
  {
   "cell_type": "code",
   "execution_count": 57,
   "metadata": {},
   "outputs": [
    {
     "data": {
      "text/plain": [
       "2.622743762294515e-64"
      ]
     },
     "execution_count": 57,
     "metadata": {},
     "output_type": "execute_result"
    }
   ],
   "source": [
    "# your code here\n",
    "stats.poisson.pmf(60, mu=300)"
   ]
  },
  {
   "cell_type": "markdown",
   "metadata": {},
   "source": [
    "#### Step 4: Create a list to store the Poisson distribution probabilities for 0 to 1000 visitors. Store your list in a variable called `arr`."
   ]
  },
  {
   "cell_type": "code",
   "execution_count": 56,
   "metadata": {},
   "outputs": [
    {
     "data": {
      "text/plain": [
       "array([5.14820022e-131, 1.54446007e-128, 2.31669010e-126, 2.31669010e-124,\n",
       "       1.73751758e-122, 1.04251055e-120, 5.21255273e-119, 2.23395117e-117,\n",
       "       8.37731688e-116, 2.79243896e-114, 8.37731688e-113, 2.28472279e-111,\n",
       "       5.71180696e-110, 1.31810930e-108, 2.82451993e-107, 5.64903985e-106,\n",
       "       1.05919497e-104, 1.86916760e-103, 3.11527933e-102, 4.91886210e-101,\n",
       "       7.37829315e-100, 1.05404188e-098, 1.43732983e-097, 1.87477805e-096,\n",
       "       2.34347256e-095, 2.81216707e-094, 3.24480816e-093, 3.60534240e-092,\n",
       "       3.86286685e-091, 3.99606916e-090, 3.99606916e-089, 3.86716370e-088,\n",
       "       3.62546597e-087, 3.29587815e-086, 2.90812778e-085, 2.49268096e-084,\n",
       "       2.07723413e-083, 1.68424389e-082, 1.32966623e-081, 1.02282018e-080,\n",
       "       7.67115132e-080, 5.61303755e-079, 4.00931254e-078, 2.79719479e-077,\n",
       "       1.90717827e-076, 1.27145218e-075, 8.29207943e-075, 5.29281665e-074,\n",
       "       3.30801041e-073, 2.02531250e-072, 1.21518750e-071, 7.14816175e-071,\n",
       "       4.12393947e-070, 2.33430536e-069, 1.29683631e-068, 7.07365261e-068,\n",
       "       3.78945675e-067, 1.99445092e-066, 1.03161255e-065, 5.24548752e-065,\n",
       "       2.62274376e-064, 1.28987398e-063, 6.24132572e-063, 2.97205987e-062,\n",
       "       1.39315306e-061, 6.42993721e-061, 2.92269873e-060, 1.30867107e-059,\n",
       "       5.77354885e-059, 2.51023863e-058, 1.07581656e-057, 4.54570376e-057,\n",
       "       1.89404323e-056, 7.78373932e-056, 3.15556999e-055, 1.26222800e-054,\n",
       "       4.98247894e-054, 1.94122556e-053, 7.46625215e-053, 2.83528563e-052,\n",
       "       1.06323211e-051, 3.93789670e-051, 1.44069392e-050, 5.20732741e-050,\n",
       "       1.85975979e-049, 6.56385808e-049, 2.28971793e-048, 7.89557908e-048,\n",
       "       2.69167469e-047, 9.07306074e-047, 3.02435358e-046, 9.97039642e-046,\n",
       "       3.25121622e-045, 1.04877943e-044, 3.34716839e-044, 1.05700054e-043,\n",
       "       3.30312670e-043, 1.02158558e-042, 3.12730278e-042, 9.47667510e-042,\n",
       "       2.84300253e-041, 8.44456197e-041, 2.48369470e-040, 7.23406223e-040,\n",
       "       2.08674872e-039, 5.96213920e-039, 1.68739789e-038, 4.73102211e-038,\n",
       "       1.31417281e-037, 3.61698938e-037, 9.86451649e-037, 2.66608554e-036,\n",
       "       7.14130055e-036, 1.89592050e-035, 4.98926447e-035, 1.30154725e-034,\n",
       "       3.36607048e-034, 8.63094996e-034, 2.19430931e-033, 5.53187222e-033,\n",
       "       1.38296805e-032, 3.42884641e-032, 8.43158954e-032, 2.05648525e-031,\n",
       "       4.97536755e-031, 1.19408821e-030, 2.84306717e-030, 6.71590671e-030,\n",
       "       1.57404063e-029, 3.66055961e-029, 8.44744526e-029, 1.93452945e-028,\n",
       "       4.39665784e-028, 9.91727332e-028, 2.22028507e-027, 4.93396683e-027,\n",
       "       1.08837504e-026, 2.38330300e-026, 5.18109347e-026, 1.11822161e-025,\n",
       "       2.39618917e-025, 5.09827483e-025, 1.07710032e-024, 2.25965101e-024,\n",
       "       4.70760628e-024, 9.73987506e-024, 2.00134419e-023, 4.08437590e-023,\n",
       "       8.27914033e-023, 1.66694101e-022, 3.33388201e-022, 6.62360665e-022,\n",
       "       1.30729079e-021, 2.56331527e-021, 4.99347130e-021, 9.66478316e-021,\n",
       "       1.85861215e-020, 3.55148818e-020, 6.74333198e-020, 1.27232679e-019,\n",
       "       2.38561273e-019, 4.44524111e-019, 8.23192798e-019, 1.51507877e-018,\n",
       "       2.77148555e-018, 5.03906464e-018, 9.10674333e-018, 1.63594192e-017,\n",
       "       2.92132485e-017, 5.18578376e-017, 9.15138310e-017, 1.60550581e-016,\n",
       "       2.80030083e-016, 4.85601300e-016, 8.37243620e-016, 1.43527478e-015,\n",
       "       2.44649110e-015, 4.14659508e-015, 6.98864339e-015, 1.17128102e-014,\n",
       "       1.95213503e-014, 3.23558292e-014, 5.33337843e-014, 8.74324333e-014,\n",
       "       1.42552880e-013, 2.31166833e-013, 3.72849731e-013, 5.98154648e-013,\n",
       "       9.54502098e-013, 1.51508270e-012, 2.39223584e-012, 3.75743849e-012,\n",
       "       5.87099763e-012, 9.12590306e-012, 1.41122212e-011, 2.17111096e-011,\n",
       "       3.32312902e-011, 5.06060256e-011, 7.66757964e-011, 1.15591653e-010,\n",
       "       1.73387479e-010, 2.58787283e-010, 3.84337548e-010, 5.67986525e-010,\n",
       "       8.35274301e-010, 1.22235264e-009, 1.78012520e-009, 2.57989159e-009,\n",
       "       3.72099749e-009, 5.34114472e-009, 7.63020674e-009, 1.08486352e-008,\n",
       "       1.53518422e-008, 2.16223130e-008, 3.03116537e-008, 4.22953308e-008,\n",
       "       5.87435150e-008, 8.12122327e-008, 1.11759953e-007, 1.53095826e-007,\n",
       "       2.08767036e-007, 2.83394166e-007, 3.82965090e-007, 5.15199672e-007,\n",
       "       6.89999561e-007, 9.19999415e-007, 1.22123816e-006, 1.61397114e-006,\n",
       "       2.12364623e-006, 2.78206930e-006, 3.62878605e-006, 4.71270915e-006,\n",
       "       6.09402046e-006, 7.84637827e-006, 1.00594593e-005, 1.28418630e-005,\n",
       "       1.63244021e-005, 2.06638001e-005, 2.60468068e-005, 3.26947366e-005,\n",
       "       4.08684208e-005, 5.08735528e-005, 6.30663878e-005, 7.78597380e-005,\n",
       "       9.57291861e-005, 1.17219412e-004, 1.42950502e-004, 1.73624091e-004,\n",
       "       2.10029143e-004, 2.53047160e-004, 3.03656592e-004, 3.62936166e-004,\n",
       "       4.32066864e-004, 5.12332250e-004, 6.05116830e-004, 7.11902153e-004,\n",
       "       8.34260336e-004, 9.73844750e-004, 1.13237762e-003, 1.31163430e-003,\n",
       "       1.51342420e-003, 1.73956804e-003, 1.99187181e-003, 2.27209712e-003,\n",
       "       2.58192854e-003, 2.92293797e-003, 3.29654658e-003, 3.70398493e-003,\n",
       "       4.14625178e-003, 4.62407262e-003, 5.13785847e-003, 5.68766620e-003,\n",
       "       6.27316125e-003, 6.89358379e-003, 7.54771948e-003, 8.23387580e-003,\n",
       "       8.94986500e-003, 9.69299458e-003, 1.04600661e-002, 1.12473829e-002,\n",
       "       1.20507674e-002, 1.28655880e-002, 1.36867957e-002, 1.45089707e-002,\n",
       "       1.53263775e-002, 1.61330290e-002, 1.69227576e-002, 1.76892937e-002,\n",
       "       1.84263476e-002, 1.91276965e-002, 1.97872722e-002, 2.03992497e-002,\n",
       "       2.09581333e-002, 2.14588395e-002, 2.18967750e-002, 2.22679068e-002,\n",
       "       2.25688245e-002, 2.27967924e-002, 2.29497910e-002, 2.30265461e-002,\n",
       "       2.30265461e-002, 2.29500460e-002, 2.27980589e-002, 2.25723356e-002,\n",
       "       2.22753312e-002, 2.19101618e-002, 2.14805508e-002, 2.09907662e-002,\n",
       "       2.04455515e-002, 1.98500500e-002, 1.92097258e-002, 1.85302822e-002,\n",
       "       1.78175790e-002, 1.70775518e-002, 1.63161323e-002, 1.55391736e-002,\n",
       "       1.47523800e-002, 1.39612429e-002, 1.31709838e-002, 1.23865052e-002,\n",
       "       1.16123486e-002, 1.08526623e-002, 1.01111760e-002, 9.39118515e-003,\n",
       "       8.69554181e-003, 8.02665397e-003, 7.38649139e-003, 6.77659760e-003,\n",
       "       6.19810756e-003, 5.65176982e-003, 5.13797256e-003, 4.65677271e-003,\n",
       "       4.20792715e-003, 3.79092536e-003, 3.40502278e-003, 3.04927413e-003,\n",
       "       2.72256619e-003, 2.42364943e-003, 2.15116813e-003, 1.90368861e-003,\n",
       "       1.67972524e-003, 1.47776414e-003, 1.29628434e-003, 1.13377639e-003,\n",
       "       9.88758478e-004, 8.59789981e-004, 7.45482642e-004, 6.44509489e-004,\n",
       "       5.55611628e-004, 4.77603119e-004, 4.09374102e-004, 3.49892395e-004,\n",
       "       2.98203746e-004, 2.53430945e-004, 2.14771988e-004, 1.81497454e-004,\n",
       "       1.52947293e-004, 1.28527137e-004, 1.07704305e-004, 9.00035972e-005,\n",
       "       7.50029977e-005, 6.23293610e-005, 5.16541665e-005, 4.26893938e-005,\n",
       "       3.51835663e-005, 2.89179997e-005, 2.37032785e-005, 1.93759770e-005,\n",
       "       1.57956334e-005, 1.28419784e-005, 1.04124149e-005, 8.41974250e-006,\n",
       "       6.79011492e-006, 5.46121843e-006, 4.38065650e-006, 3.50452520e-006,\n",
       "       2.79616372e-006, 2.22506397e-006, 1.76592378e-006, 1.39782885e-006,\n",
       "       1.10354909e-006, 8.68936295e-007, 6.82410703e-007, 5.34525355e-007,\n",
       "       4.17597933e-007, 3.25400987e-007, 2.52902322e-007, 1.96048311e-007,\n",
       "       1.51583746e-007, 1.16902632e-007, 8.99251014e-008, 6.89962414e-008,\n",
       "       5.28032460e-008, 4.03078214e-008, 3.06912346e-008, 2.33097984e-008,\n",
       "       1.76589382e-008, 1.33442858e-008, 1.00585069e-008, 7.56278712e-009,\n",
       "       5.67209034e-009, 4.24345911e-009, 3.16676053e-009, 2.35738997e-009,\n",
       "       1.75053711e-009, 1.29669415e-009, 9.58148389e-010, 7.06251884e-010,\n",
       "       5.19302856e-010, 3.80906740e-010, 2.78712249e-010, 2.03439598e-010,\n",
       "       1.48135629e-010, 1.07604573e-010, 7.79743286e-011, 5.63669845e-011,\n",
       "       4.06492677e-011, 2.92440775e-011, 2.09885723e-011, 1.50276174e-011,\n",
       "       1.07340124e-011, 7.64893999e-012, 5.43763506e-012, 3.85647877e-012,\n",
       "       2.72864064e-012, 1.92609927e-012, 1.35640794e-012, 9.52979817e-013,\n",
       "       6.67976507e-013, 4.67116438e-013, 3.25895190e-013, 2.26841199e-013,\n",
       "       1.57528611e-013, 1.09142224e-013, 7.54439339e-014, 5.20302993e-014,\n",
       "       3.58006646e-014, 2.45771153e-014, 1.68336406e-014, 1.15036269e-014,\n",
       "       7.84338194e-015, 5.33563397e-015, 3.62147102e-015, 2.45246345e-015,\n",
       "       1.65706990e-015, 1.11712577e-015, 7.51429892e-016, 5.04315364e-016,\n",
       "       3.37711181e-016, 2.25642215e-016, 1.50428143e-016, 1.00063066e-016,\n",
       "       6.64135396e-017, 4.39824766e-017, 2.90633105e-017, 1.91626223e-017,\n",
       "       1.26069884e-017, 8.27592234e-018, 5.42090983e-018, 3.54307832e-018,\n",
       "       2.31070325e-018, 1.50371144e-018, 9.76436002e-019, 6.32679915e-019,\n",
       "       4.09060290e-019, 2.63909864e-019, 1.69899054e-019, 1.09142861e-019,\n",
       "       6.99633728e-020, 4.47526905e-020, 2.85655471e-020, 1.81946160e-020,\n",
       "       1.15643746e-020, 7.33469846e-021, 4.64221421e-021, 2.93192477e-021,\n",
       "       1.84785174e-021, 1.16217091e-021, 7.29395967e-022, 4.56824197e-022,\n",
       "       2.85515123e-022, 1.78075960e-022, 1.10835660e-022, 6.88420248e-023,\n",
       "       4.26706765e-023, 2.63942329e-023, 1.62927364e-023, 1.00365932e-023,\n",
       "       6.17003683e-024, 3.78529867e-024, 2.31752980e-024, 1.41600599e-024,\n",
       "       8.63418284e-025, 5.25406664e-025, 3.19072873e-025, 1.93377499e-025,\n",
       "       1.16962197e-025, 7.06009236e-026, 4.25306768e-026, 2.55695452e-026,\n",
       "       1.53417271e-026, 9.18666294e-027, 5.49003762e-027, 3.27437631e-027,\n",
       "       1.94903352e-027, 1.15784169e-027, 6.86467408e-028, 4.06193732e-028,\n",
       "       2.39878188e-028, 1.41382036e-028, 8.31659038e-029, 4.88253838e-029,\n",
       "       2.86086233e-029, 1.67301891e-029, 9.76470180e-030, 5.68817581e-030,\n",
       "       3.30707896e-030, 1.91900133e-030, 1.11139073e-030, 6.42422388e-031,\n",
       "       3.70628301e-031, 2.13413609e-031, 1.22651499e-031, 7.03545885e-032,\n",
       "       4.02793446e-032, 2.30167683e-032, 1.31274344e-032, 7.47292281e-033,\n",
       "       4.24597887e-033, 2.40792753e-033, 1.36297784e-033, 7.70043980e-034,\n",
       "       4.34235327e-034, 2.44410128e-034, 1.37309061e-034, 7.69957349e-035,\n",
       "       4.30946278e-035, 2.40752110e-035, 1.34248389e-035, 7.47208100e-036,\n",
       "       4.15115611e-036, 2.30193500e-036, 1.27413376e-036, 7.03941305e-037,\n",
       "       3.88202926e-037, 2.13689684e-037, 1.17411914e-037, 6.43941029e-038,\n",
       "       3.52522461e-038, 1.92635225e-038, 1.05073759e-038, 5.72089431e-039,\n",
       "       3.10918169e-039, 1.68671701e-039, 9.13384663e-040, 4.93721439e-040,\n",
       "       2.66396460e-040, 1.43481038e-040, 7.71403429e-041, 4.13991107e-041,\n",
       "       2.21780950e-041, 1.18599439e-041, 6.33093088e-042, 3.37349781e-042,\n",
       "       1.79441373e-042, 9.52786050e-043, 5.05010274e-043, 2.67201203e-043,\n",
       "       1.41127396e-043, 7.44081174e-044, 3.91621670e-044, 2.05755694e-044,\n",
       "       1.07913825e-044, 5.64993850e-045, 2.95292953e-045, 1.54065889e-045,\n",
       "       8.02426503e-046, 4.17206154e-046, 2.16542986e-046, 1.12198439e-046,\n",
       "       5.80336751e-047, 2.99657531e-047, 1.54462645e-047, 7.94833506e-048,\n",
       "       4.08304883e-048, 2.09387120e-048, 1.07194771e-048, 5.47843805e-049,\n",
       "       2.79512145e-049, 1.42366118e-049, 7.23895516e-050, 3.67459653e-050,\n",
       "       1.86212662e-050, 9.42053939e-051, 4.75784818e-051, 2.39891505e-051,\n",
       "       1.20750757e-051, 6.06787726e-052, 3.04408558e-052, 1.52458376e-052,\n",
       "       7.62291882e-053, 3.80511755e-053, 1.89623798e-053, 9.43401980e-054,\n",
       "       4.68577142e-054, 2.32352302e-054, 1.15025892e-054, 5.68496995e-055,\n",
       "       2.80508386e-055, 1.38181471e-055, 6.79581004e-056, 3.33673161e-056,\n",
       "       1.63565275e-056, 8.00482585e-057, 3.91115270e-057, 1.90787936e-057,\n",
       "       9.29162028e-058, 4.51780565e-058, 2.19310954e-058, 1.06289638e-058,\n",
       "       5.14304702e-059, 2.48456378e-059, 1.19834266e-059, 5.77051039e-060,\n",
       "       2.77428384e-060, 1.33165624e-060, 6.38173918e-061, 3.05346372e-061,\n",
       "       1.45866101e-061, 6.95704777e-062, 3.31287989e-062, 1.57506175e-062,\n",
       "       7.47655896e-063, 3.54339287e-063, 1.67668432e-063, 7.92134326e-064,\n",
       "       3.73648267e-064, 1.75972496e-064, 8.27456879e-065, 3.88477408e-065,\n",
       "       1.82098785e-065, 8.52256404e-066, 3.98250656e-066, 1.85809015e-066,\n",
       "       8.65569947e-067, 4.02590673e-067, 1.86961613e-067, 8.66900832e-068,\n",
       "       4.01342978e-068, 1.85520637e-068, 8.56249094e-069, 3.94584836e-069,\n",
       "       1.81557440e-069, 8.34107687e-070, 3.82618205e-070, 1.75244979e-070,\n",
       "       8.01425210e-071, 3.65947585e-071, 1.66845403e-071, 7.59539014e-072,\n",
       "       3.45245006e-072, 1.56692136e-072, 7.10085208e-073, 3.21305524e-073,\n",
       "       1.45168158e-073, 6.54893948e-074, 2.94997274e-074, 1.32682432e-074,\n",
       "       5.95879186e-075, 2.67210397e-075, 1.19646446e-075, 5.34931952e-076,\n",
       "       2.38808907e-076, 1.06452707e-076, 4.73825107e-077, 2.10588937e-077,\n",
       "       9.34566286e-078, 4.14135725e-078, 1.83245896e-078, 8.09628407e-079,\n",
       "       3.57189003e-079, 1.57351984e-079, 6.92164151e-080, 3.04025249e-080,\n",
       "       1.33344408e-080, 5.83990106e-081, 2.55389259e-081, 1.11523694e-081,\n",
       "       4.86295177e-082, 2.11739555e-082, 9.20606760e-083, 3.99684556e-083,\n",
       "       1.73273651e-083, 7.50102387e-084, 3.24251752e-084, 1.39964785e-084,\n",
       "       6.03296487e-085, 2.59668503e-085, 1.11605374e-085, 4.78993020e-086,\n",
       "       2.05282723e-086, 8.78528057e-087, 3.75439341e-087, 1.60215935e-087,\n",
       "       6.82738359e-088, 2.90526961e-088, 1.23453383e-088, 5.23847452e-089,\n",
       "       2.21969259e-089, 9.39221126e-090, 3.96853997e-090, 1.67448944e-090,\n",
       "       7.05543303e-091, 2.96862540e-091, 1.24732160e-091, 5.23351718e-092,\n",
       "       2.19281446e-092, 9.17495591e-093, 3.83354704e-093, 1.59953284e-093,\n",
       "       6.66472016e-094, 2.77311519e-094, 1.15226393e-094, 4.78117812e-095,\n",
       "       1.98115116e-095, 8.19786685e-096, 3.38754829e-096, 1.39788788e-096,\n",
       "       5.76052696e-097, 2.37058723e-097, 9.74213929e-098, 3.99814198e-098,\n",
       "       1.63858278e-098, 6.70634152e-099, 2.74101152e-099, 1.11878021e-099,\n",
       "       4.56024543e-100, 1.85627358e-100, 7.54582757e-101, 3.06325882e-101,\n",
       "       1.24186168e-101, 5.02778010e-102, 2.03279519e-102, 8.20778677e-103,\n",
       "       3.30959144e-103, 1.33272138e-103, 5.35946937e-104, 2.15239734e-104,\n",
       "       8.63260965e-105, 3.45765406e-105, 1.38306163e-105, 5.52488000e-106,\n",
       "       2.20407447e-106, 8.78117317e-107, 3.49383548e-107, 1.38827900e-107,\n",
       "       5.50904365e-108, 2.18324055e-108, 8.64079372e-109, 3.41533349e-109,\n",
       "       1.34815796e-109, 5.31468313e-110, 2.09239493e-110, 8.22697877e-111,\n",
       "       3.23048905e-111, 1.26685845e-111, 4.96158662e-112, 1.94064666e-112,\n",
       "       7.58065100e-113, 2.95734109e-113, 1.15221082e-113, 4.48331057e-114,\n",
       "       1.74221913e-114, 6.76152315e-115, 2.62074541e-115, 1.01448209e-115,\n",
       "       3.92196686e-116, 1.51427292e-116, 5.83909865e-117, 2.24869011e-117,\n",
       "       8.64880811e-118, 3.32220542e-118, 1.27450336e-118, 4.88315463e-119,\n",
       "       1.86855407e-119, 7.14097096e-120, 2.72556144e-120, 1.03896878e-120,\n",
       "       3.95546490e-121, 1.50397905e-121, 5.71131285e-122, 2.16611107e-122,\n",
       "       8.20496617e-123, 3.10402251e-123, 1.17280447e-123, 4.42567726e-124,\n",
       "       1.66796882e-124, 6.27842717e-125, 2.36031097e-125, 8.86224392e-126,\n",
       "       3.32334147e-126, 1.24469718e-126, 4.65597449e-127, 1.73946743e-127,\n",
       "       6.49055012e-128, 2.41883855e-128, 9.00312116e-129, 3.34688519e-129,\n",
       "       1.24265539e-129, 4.60811641e-130, 1.70670978e-130, 6.31335308e-131,\n",
       "       2.33251961e-131, 8.60708343e-132, 3.17214377e-132, 1.16766028e-132,\n",
       "       4.29286869e-133, 1.57632877e-133, 5.78115687e-134, 2.11763988e-134,\n",
       "       7.74746297e-135, 2.83098525e-135, 1.03320630e-135, 3.76624409e-136,\n",
       "       1.37120537e-136, 4.98620136e-137, 1.81096902e-137, 6.56941602e-138,\n",
       "       2.38022320e-138, 8.61359419e-139, 3.11334730e-139, 1.12395209e-139,\n",
       "       4.05271188e-140, 1.45956010e-140, 5.25021618e-141, 1.88630522e-141,\n",
       "       6.76903786e-142, 2.42617844e-142, 8.68560302e-143, 3.10569834e-143,\n",
       "       1.10917798e-143, 3.95663964e-144, 1.40972909e-144, 5.01682949e-145,\n",
       "       1.78323323e-145, 6.33100555e-146, 2.24503743e-146, 7.95172643e-147,\n",
       "       2.81311077e-147, 9.94032073e-148, 3.50834849e-148, 1.23678560e-148,\n",
       "       4.35487888e-149, 1.53161039e-149, 5.38036438e-150, 1.88784715e-150,\n",
       "       6.61628674e-151, 2.31608637e-151, 8.09820410e-152, 2.82824357e-152,\n",
       "       9.86596596e-153, 3.43761880e-153, 1.19638705e-153, 4.15893530e-154,\n",
       "       1.44407476e-154, 5.00835175e-155, 1.73499483e-155, 6.00344233e-156,\n",
       "       2.07492247e-156, 7.16313854e-157, 2.47004777e-157, 8.50762724e-158,\n",
       "       2.92693598e-158, 1.00581992e-158, 3.45247113e-159, 1.18370439e-159,\n",
       "       4.05378215e-160, 1.38669857e-160, 4.73815001e-161, 1.61711604e-161,\n",
       "       5.51289560e-162, 1.87726298e-162, 6.38524821e-163, 2.16939350e-163,\n",
       "       7.36219515e-164, 2.49565937e-164, 8.45031390e-165, 2.85805431e-165,\n",
       "       9.65558888e-166, 3.25835395e-166, 1.09832156e-166, 3.69805238e-167,\n",
       "       1.24373959e-167, 4.17829649e-168, 1.40211292e-168, 4.69981984e-169,\n",
       "       1.57360039e-169, 5.26287756e-170, 1.75819963e-170, 5.86718453e-171,\n",
       "       1.95572818e-171, 6.51185853e-172, 2.16580660e-172, 7.19537078e-173,\n",
       "       2.38784429e-173, 7.91550592e-174, 2.62102845e-174, 8.66933335e-175,\n",
       "       2.86431719e-175, 9.45319204e-176, 3.11643693e-176, 1.02626902e-176,\n",
       "       3.37588495e-177, 1.10927216e-177, 3.64093707e-178, 1.19374986e-178,\n",
       "       3.90966111e-179, 1.27906034e-179, 4.17993576e-180, 1.36450569e-180,\n",
       "       4.44947507e-181, 1.44934041e-181, 4.71585818e-182, 1.53278164e-182,\n",
       "       4.97656377e-183, 1.61402068e-183, 5.22900869e-184, 1.69223582e-184,\n",
       "       5.47058994e-185, 1.76660601e-185, 5.69872906e-186, 1.83632515e-186,\n",
       "       5.91091788e-187, 1.90061668e-187, 6.10476450e-188, 1.95874797e-188,\n",
       "       6.27803836e-189, 2.01004430e-189, 6.42871311e-190, 2.05390195e-190,\n",
       "       6.55500623e-191, 2.08980007e-191, 6.65541424e-192, 2.11731100e-192,\n",
       "       6.72874258e-193, 2.13610876e-193, 6.77412925e-194, 2.14597548e-194,\n",
       "       6.79106163e-195, 2.14680557e-195, 6.77938602e-196, 2.13860758e-196,\n",
       "       6.73930959e-197, 2.12150354e-197, 6.67139479e-198, 2.09572611e-198,\n",
       "       6.57654638e-199, 2.06161329e-199, 6.45599150e-200, 2.01960109e-200,\n",
       "       6.31125342e-201, 1.97021439e-201, 6.14411971e-202, 1.91405599e-202,\n",
       "       5.95660576e-203, 1.85179454e-203, 5.75091471e-204, 1.78415141e-204,\n",
       "       5.52939487e-205, 1.71188696e-205, 5.29449574e-206, 1.63578653e-206,\n",
       "       5.04872386e-207, 1.55664662e-207, 4.79459944e-208, 1.47526137e-208,\n",
       "       4.53461485e-209, 1.39240988e-209, 4.27119596e-210, 1.30884452e-210,\n",
       "       4.00666691e-211, 1.22528040e-211, 3.74321914e-212, 1.14238631e-212,\n",
       "       3.48288509e-213, 1.06077719e-213, 3.22751679e-214, 9.81008143e-215,\n",
       "       2.97876967e-215, 9.03570172e-216, 2.73809143e-216, 8.28887416e-217,\n",
       "       2.50671597e-217, 7.57316004e-218, 2.28566199e-218, 6.89144317e-219,\n",
       "       2.07573590e-219, 6.24594552e-220, 1.87753873e-220, 5.63825446e-221])"
      ]
     },
     "execution_count": 56,
     "metadata": {},
     "output_type": "execute_result"
    }
   ],
   "source": [
    "# your code here\n",
    "x = range(1000)\n",
    "arr = stats.poisson.pmf(x, mu=300)\n",
    "arr"
   ]
  },
  {
   "cell_type": "markdown",
   "metadata": {},
   "source": [
    "#### Step 5: Plot the probabilities.\n",
    "To do it, run the code in the cell below. Your plot should look like the one below:\n",
    "\n",
    "![poisson distribution](../images/ch-3.png)"
   ]
  },
  {
   "cell_type": "code",
   "execution_count": 58,
   "metadata": {},
   "outputs": [
    {
     "data": {
      "image/png": "[encoded data removed]",
      "text/plain": [
       "<Figure size 432x288 with 1 Axes>"
      ]
     },
     "metadata": {
      "needs_background": "light"
     },
     "output_type": "display_data"
    }
   ],
   "source": [
    "# run this code\n",
    "plt.plot(arr)\n",
    "plt.show()"
   ]
  },
  {
   "cell_type": "markdown",
   "metadata": {},
   "source": [
    "# Challenge 4 - Central Limit Theorem\n",
    "\n",
    "A delivery company needs 35 minutes to deliver a package, with a standard deviation of 8 minutes. Suppose that in one day, they deliver 200 packages.\n",
    "\n",
    "**Hint**: `stats.norm.cdf` can help you find the answers.\n",
    "\n",
    "#### Step 1: What is the probability that the mean delivery time today is between 30 and 35 minutes?"
   ]
  },
  {
   "cell_type": "code",
   "execution_count": 36,
   "metadata": {},
   "outputs": [
    {
     "data": {
      "text/plain": [
       "0.5"
      ]
     },
     "execution_count": 36,
     "metadata": {},
     "output_type": "execute_result"
    }
   ],
   "source": [
    "# your code here\n",
    "m=35\n",
    "se=8/np.sqrt(200)  #because we work with samples size (standard error)\n",
    "# your code here\n",
    "cdf_probability = stats.norm.cdf(35, m, se) - stats.norm.cdf(30, m, se)\n",
    "cdf_probability\n"
   ]
  },
  {
   "cell_type": "markdown",
   "metadata": {},
   "source": [
    "#### Step 2: What is the probability that in total, it takes more than 115 hours to deliver all 200 packages?"
   ]
  },
  {
   "cell_type": "code",
   "execution_count": 42,
   "metadata": {
    "scrolled": true
   },
   "outputs": [
    {
     "data": {
      "text/plain": [
       "0.8116204410942089"
      ]
     },
     "execution_count": 42,
     "metadata": {},
     "output_type": "execute_result"
    }
   ],
   "source": [
    "# your code here\n",
    "x = 115/200*60\n",
    "1 - stats.norm.cdf(x,loc=35,scale=8/np.sqrt(200))"
   ]
  },
  {
   "cell_type": "markdown",
   "metadata": {},
   "source": [
    "# Challenge 5 - Normal Variables\n",
    "The value (in thousands) of the monthly sales of a publishing company follows a normal distribution with a mean equal to 200 and a standard deviation equal to 40.\n",
    "\n",
    "<div align=\"center\">$X → N(200,40)$</div>\n",
    "\n",
    "**Hint**: `stats.norm.cdf` can help you find the answers.\n",
    "\n",
    "#### Step 1: Find the probability that the monthly sales are more than 300."
   ]
  },
  {
   "cell_type": "code",
   "execution_count": 20,
   "metadata": {},
   "outputs": [
    {
     "data": {
      "text/plain": [
       "0.006209665325776159"
      ]
     },
     "execution_count": 20,
     "metadata": {},
     "output_type": "execute_result"
    }
   ],
   "source": [
    "# your code here\n",
    "x = 300\n",
    "1 - stats.norm.cdf(x, loc = 200, scale = 40)"
   ]
  },
  {
   "cell_type": "markdown",
   "metadata": {},
   "source": [
    "#### Step 2: Find the probability that the monthly sales fall between 160 and 240."
   ]
  },
  {
   "cell_type": "code",
   "execution_count": 37,
   "metadata": {
    "scrolled": true
   },
   "outputs": [
    {
     "data": {
      "text/plain": [
       "0.6826894921370859"
      ]
     },
     "execution_count": 37,
     "metadata": {},
     "output_type": "execute_result"
    }
   ],
   "source": [
    "# your code here\n",
    "m=200\n",
    "se=40\n",
    "\n",
    "# your code here\n",
    "stats.norm.cdf(240, m, se) - stats.norm.cdf(160, m, se)"
   ]
  },
  {
   "cell_type": "markdown",
   "metadata": {},
   "source": [
    "#### Step 3: Find the probability that the monthly sales do not exceed 150."
   ]
  },
  {
   "cell_type": "code",
   "execution_count": 22,
   "metadata": {},
   "outputs": [
    {
     "data": {
      "text/plain": [
       "0.10564977366685535"
      ]
     },
     "execution_count": 22,
     "metadata": {},
     "output_type": "execute_result"
    }
   ],
   "source": [
    "# your code here\n",
    "stats.norm.cdf(150, loc = 200, scale = 40)"
   ]
  },
  {
   "cell_type": "markdown",
   "metadata": {},
   "source": [
    "#### Step 4: Find the probability that the monthly sales exceed 3000."
   ]
  },
  {
   "cell_type": "code",
   "execution_count": 23,
   "metadata": {},
   "outputs": [
    {
     "data": {
      "text/plain": [
       "0.0"
      ]
     },
     "execution_count": 23,
     "metadata": {},
     "output_type": "execute_result"
    }
   ],
   "source": [
    "# your code here\n",
    "1 - stats.norm.cdf(3000, loc = 200, scale = 40)"
   ]
  },
  {
   "cell_type": "markdown",
   "metadata": {},
   "source": [
    "# Challenge 6 - Poisson distribution\n",
    "The mean number of violent robberies per month that are registered in a particular barrio is 4.\n",
    "\n",
    "**Hint**: `stats.poisson.cdf` can help you find the answers.\n",
    "\n",
    "#### Step 1: Find the probability that in a particular month there is no violent robbery."
   ]
  },
  {
   "cell_type": "code",
   "execution_count": 24,
   "metadata": {},
   "outputs": [
    {
     "data": {
      "text/plain": [
       "0.018315638888734182"
      ]
     },
     "execution_count": 24,
     "metadata": {},
     "output_type": "execute_result"
    }
   ],
   "source": [
    "# your code here\n",
    "stats.poisson.cdf(0,4)"
   ]
  },
  {
   "cell_type": "markdown",
   "metadata": {},
   "source": [
    "#### Step 2: Find the probability that there are at least 1 robbery in a given month."
   ]
  },
  {
   "cell_type": "code",
   "execution_count": 61,
   "metadata": {},
   "outputs": [
    {
     "data": {
      "text/plain": [
       "0.9084218055563291"
      ]
     },
     "execution_count": 61,
     "metadata": {},
     "output_type": "execute_result"
    }
   ],
   "source": [
    "# your code here\n",
    "1 - stats.poisson.cdf(1,4)"
   ]
  },
  {
   "cell_type": "markdown",
   "metadata": {},
   "source": [
    "#### Step 3: Find the probability that there are between 2 and 6 (inclusive) robberies in a given month."
   ]
  },
  {
   "cell_type": "code",
   "execution_count": 38,
   "metadata": {},
   "outputs": [
    {
     "data": {
      "text/plain": [
       "0.6512227160438819"
      ]
     },
     "execution_count": 38,
     "metadata": {},
     "output_type": "execute_result"
    }
   ],
   "source": [
    "# your code here\n",
    "1 - (stats.poisson.cdf(2,4) + 1 - stats.poisson.cdf(6,4))"
   ]
  },
  {
   "cell_type": "markdown",
   "metadata": {},
   "source": [
    "#### Step 4: Find the probability that there are more than 2 robberies in 15 days."
   ]
  },
  {
   "cell_type": "code",
   "execution_count": 63,
   "metadata": {},
   "outputs": [
    {
     "data": {
      "text/plain": [
       "0.3233235838169366"
      ]
     },
     "execution_count": 63,
     "metadata": {},
     "output_type": "execute_result"
    }
   ],
   "source": [
    "# your code here\n",
    "m = 4\n",
    "1 - stats.poisson.cdf(2,m/2)"
   ]
  }
 ],
 "metadata": {
  "anaconda-cloud": {},
  "kernelspec": {
   "display_name": "Python 3",
   "language": "python",
   "name": "python3"
  },
  "language_info": {
   "codemirror_mode": {
    "name": "ipython",
    "version": 3
   },
   "file_extension": ".py",
   "mimetype": "text/x-python",
   "name": "python",
   "nbconvert_exporter": "python",
   "pygments_lexer": "ipython3",
   "version": "3.8.8"
  }
 },
 "nbformat": 4,
 "nbformat_minor": 1
}
